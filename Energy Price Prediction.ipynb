{
 "cells": [
  {
   "cell_type": "markdown",
   "metadata": {},
   "source": [
    "# Energy Price Prediction"
   ]
  },
  {
   "cell_type": "markdown",
   "metadata": {},
   "source": [
    "### The dataset has been an aggregated collection of features relating to different type of energies by production method."
   ]
  },
  {
   "cell_type": "markdown",
   "metadata": {},
   "source": [
    "#### importing important libraries"
   ]
  },
  {
   "cell_type": "code",
   "execution_count": 1,
   "metadata": {},
   "outputs": [],
   "source": [
    "import numpy as np\n",
    "import pandas as pd\n",
    "import matplotlib.pyplot as plt\n",
    "import seaborn as sns\n",
    "import warnings\n",
    "warnings.filterwarnings('ignore')"
   ]
  },
  {
   "cell_type": "markdown",
   "metadata": {},
   "source": [
    "#### Reading data from the file"
   ]
  },
  {
   "cell_type": "code",
   "execution_count": 2,
   "metadata": {},
   "outputs": [],
   "source": [
    "df = pd.read_csv('energy_dataset.csv')"
   ]
  },
  {
   "cell_type": "markdown",
   "metadata": {},
   "source": [
    "## Exploratory Data Analysis"
   ]
  },
  {
   "cell_type": "code",
   "execution_count": 3,
   "metadata": {
    "scrolled": false
   },
   "outputs": [
    {
     "data": {
      "text/html": [
       "<div>\n",
       "<style scoped>\n",
       "    .dataframe tbody tr th:only-of-type {\n",
       "        vertical-align: middle;\n",
       "    }\n",
       "\n",
       "    .dataframe tbody tr th {\n",
       "        vertical-align: top;\n",
       "    }\n",
       "\n",
       "    .dataframe thead th {\n",
       "        text-align: right;\n",
       "    }\n",
       "</style>\n",
       "<table border=\"1\" class=\"dataframe\">\n",
       "  <thead>\n",
       "    <tr style=\"text-align: right;\">\n",
       "      <th></th>\n",
       "      <th>time</th>\n",
       "      <th>generation biomass</th>\n",
       "      <th>generation fossil brown coal/lignite</th>\n",
       "      <th>generation fossil coal-derived gas</th>\n",
       "      <th>generation fossil gas</th>\n",
       "      <th>generation fossil hard coal</th>\n",
       "      <th>generation fossil oil</th>\n",
       "      <th>generation fossil oil shale</th>\n",
       "      <th>generation fossil peat</th>\n",
       "      <th>generation geothermal</th>\n",
       "      <th>...</th>\n",
       "      <th>generation waste</th>\n",
       "      <th>generation wind offshore</th>\n",
       "      <th>generation wind onshore</th>\n",
       "      <th>forecast solar day ahead</th>\n",
       "      <th>forecast wind offshore eday ahead</th>\n",
       "      <th>forecast wind onshore day ahead</th>\n",
       "      <th>total load forecast</th>\n",
       "      <th>total load actual</th>\n",
       "      <th>price day ahead</th>\n",
       "      <th>price actual</th>\n",
       "    </tr>\n",
       "  </thead>\n",
       "  <tbody>\n",
       "    <tr>\n",
       "      <th>0</th>\n",
       "      <td>2015-01-01 00:00:00+01:00</td>\n",
       "      <td>447.0</td>\n",
       "      <td>329.0</td>\n",
       "      <td>0.0</td>\n",
       "      <td>4844.0</td>\n",
       "      <td>4821.0</td>\n",
       "      <td>162.0</td>\n",
       "      <td>0.0</td>\n",
       "      <td>0.0</td>\n",
       "      <td>0.0</td>\n",
       "      <td>...</td>\n",
       "      <td>196.0</td>\n",
       "      <td>0.0</td>\n",
       "      <td>6378.0</td>\n",
       "      <td>17</td>\n",
       "      <td>NaN</td>\n",
       "      <td>6436</td>\n",
       "      <td>26118</td>\n",
       "      <td>25385.0</td>\n",
       "      <td>50.10</td>\n",
       "      <td>65.41</td>\n",
       "    </tr>\n",
       "    <tr>\n",
       "      <th>1</th>\n",
       "      <td>2015-01-01 01:00:00+01:00</td>\n",
       "      <td>449.0</td>\n",
       "      <td>328.0</td>\n",
       "      <td>0.0</td>\n",
       "      <td>5196.0</td>\n",
       "      <td>4755.0</td>\n",
       "      <td>158.0</td>\n",
       "      <td>0.0</td>\n",
       "      <td>0.0</td>\n",
       "      <td>0.0</td>\n",
       "      <td>...</td>\n",
       "      <td>195.0</td>\n",
       "      <td>0.0</td>\n",
       "      <td>5890.0</td>\n",
       "      <td>16</td>\n",
       "      <td>NaN</td>\n",
       "      <td>5856</td>\n",
       "      <td>24934</td>\n",
       "      <td>24382.0</td>\n",
       "      <td>48.10</td>\n",
       "      <td>64.92</td>\n",
       "    </tr>\n",
       "    <tr>\n",
       "      <th>2</th>\n",
       "      <td>2015-01-01 02:00:00+01:00</td>\n",
       "      <td>448.0</td>\n",
       "      <td>323.0</td>\n",
       "      <td>0.0</td>\n",
       "      <td>4857.0</td>\n",
       "      <td>4581.0</td>\n",
       "      <td>157.0</td>\n",
       "      <td>0.0</td>\n",
       "      <td>0.0</td>\n",
       "      <td>0.0</td>\n",
       "      <td>...</td>\n",
       "      <td>196.0</td>\n",
       "      <td>0.0</td>\n",
       "      <td>5461.0</td>\n",
       "      <td>8</td>\n",
       "      <td>NaN</td>\n",
       "      <td>5454</td>\n",
       "      <td>23515</td>\n",
       "      <td>22734.0</td>\n",
       "      <td>47.33</td>\n",
       "      <td>64.48</td>\n",
       "    </tr>\n",
       "    <tr>\n",
       "      <th>3</th>\n",
       "      <td>2015-01-01 03:00:00+01:00</td>\n",
       "      <td>438.0</td>\n",
       "      <td>254.0</td>\n",
       "      <td>0.0</td>\n",
       "      <td>4314.0</td>\n",
       "      <td>4131.0</td>\n",
       "      <td>160.0</td>\n",
       "      <td>0.0</td>\n",
       "      <td>0.0</td>\n",
       "      <td>0.0</td>\n",
       "      <td>...</td>\n",
       "      <td>191.0</td>\n",
       "      <td>0.0</td>\n",
       "      <td>5238.0</td>\n",
       "      <td>2</td>\n",
       "      <td>NaN</td>\n",
       "      <td>5151</td>\n",
       "      <td>22642</td>\n",
       "      <td>21286.0</td>\n",
       "      <td>42.27</td>\n",
       "      <td>59.32</td>\n",
       "    </tr>\n",
       "    <tr>\n",
       "      <th>4</th>\n",
       "      <td>2015-01-01 04:00:00+01:00</td>\n",
       "      <td>428.0</td>\n",
       "      <td>187.0</td>\n",
       "      <td>0.0</td>\n",
       "      <td>4130.0</td>\n",
       "      <td>3840.0</td>\n",
       "      <td>156.0</td>\n",
       "      <td>0.0</td>\n",
       "      <td>0.0</td>\n",
       "      <td>0.0</td>\n",
       "      <td>...</td>\n",
       "      <td>189.0</td>\n",
       "      <td>0.0</td>\n",
       "      <td>4935.0</td>\n",
       "      <td>9</td>\n",
       "      <td>NaN</td>\n",
       "      <td>4861</td>\n",
       "      <td>21785</td>\n",
       "      <td>20264.0</td>\n",
       "      <td>38.41</td>\n",
       "      <td>56.04</td>\n",
       "    </tr>\n",
       "  </tbody>\n",
       "</table>\n",
       "<p>5 rows × 29 columns</p>\n",
       "</div>"
      ],
      "text/plain": [
       "                        time  generation biomass  \\\n",
       "0  2015-01-01 00:00:00+01:00               447.0   \n",
       "1  2015-01-01 01:00:00+01:00               449.0   \n",
       "2  2015-01-01 02:00:00+01:00               448.0   \n",
       "3  2015-01-01 03:00:00+01:00               438.0   \n",
       "4  2015-01-01 04:00:00+01:00               428.0   \n",
       "\n",
       "   generation fossil brown coal/lignite  generation fossil coal-derived gas  \\\n",
       "0                                 329.0                                 0.0   \n",
       "1                                 328.0                                 0.0   \n",
       "2                                 323.0                                 0.0   \n",
       "3                                 254.0                                 0.0   \n",
       "4                                 187.0                                 0.0   \n",
       "\n",
       "   generation fossil gas  generation fossil hard coal  generation fossil oil  \\\n",
       "0                 4844.0                       4821.0                  162.0   \n",
       "1                 5196.0                       4755.0                  158.0   \n",
       "2                 4857.0                       4581.0                  157.0   \n",
       "3                 4314.0                       4131.0                  160.0   \n",
       "4                 4130.0                       3840.0                  156.0   \n",
       "\n",
       "   generation fossil oil shale  generation fossil peat  generation geothermal  \\\n",
       "0                          0.0                     0.0                    0.0   \n",
       "1                          0.0                     0.0                    0.0   \n",
       "2                          0.0                     0.0                    0.0   \n",
       "3                          0.0                     0.0                    0.0   \n",
       "4                          0.0                     0.0                    0.0   \n",
       "\n",
       "   ...  generation waste  generation wind offshore  generation wind onshore  \\\n",
       "0  ...             196.0                       0.0                   6378.0   \n",
       "1  ...             195.0                       0.0                   5890.0   \n",
       "2  ...             196.0                       0.0                   5461.0   \n",
       "3  ...             191.0                       0.0                   5238.0   \n",
       "4  ...             189.0                       0.0                   4935.0   \n",
       "\n",
       "   forecast solar day ahead  forecast wind offshore eday ahead  \\\n",
       "0                        17                                NaN   \n",
       "1                        16                                NaN   \n",
       "2                         8                                NaN   \n",
       "3                         2                                NaN   \n",
       "4                         9                                NaN   \n",
       "\n",
       "   forecast wind onshore day ahead  total load forecast  total load actual  \\\n",
       "0                             6436                26118            25385.0   \n",
       "1                             5856                24934            24382.0   \n",
       "2                             5454                23515            22734.0   \n",
       "3                             5151                22642            21286.0   \n",
       "4                             4861                21785            20264.0   \n",
       "\n",
       "   price day ahead  price actual  \n",
       "0            50.10         65.41  \n",
       "1            48.10         64.92  \n",
       "2            47.33         64.48  \n",
       "3            42.27         59.32  \n",
       "4            38.41         56.04  \n",
       "\n",
       "[5 rows x 29 columns]"
      ]
     },
     "execution_count": 3,
     "metadata": {},
     "output_type": "execute_result"
    }
   ],
   "source": [
    "df.head()"
   ]
  },
  {
   "cell_type": "code",
   "execution_count": 4,
   "metadata": {},
   "outputs": [
    {
     "data": {
      "text/plain": [
       "(16569, 29)"
      ]
     },
     "execution_count": 4,
     "metadata": {},
     "output_type": "execute_result"
    }
   ],
   "source": [
    "df.shape"
   ]
  },
  {
   "cell_type": "code",
   "execution_count": 5,
   "metadata": {},
   "outputs": [
    {
     "data": {
      "text/plain": [
       "Index(['time', 'generation biomass', 'generation fossil brown coal/lignite',\n",
       "       'generation fossil coal-derived gas', 'generation fossil gas',\n",
       "       'generation fossil hard coal', 'generation fossil oil',\n",
       "       'generation fossil oil shale', 'generation fossil peat',\n",
       "       'generation geothermal', 'generation hydro pumped storage aggregated',\n",
       "       'generation hydro pumped storage consumption',\n",
       "       'generation hydro run-of-river and poundage',\n",
       "       'generation hydro water reservoir', 'generation marine',\n",
       "       'generation nuclear', 'generation other', 'generation other renewable',\n",
       "       'generation solar', 'generation waste', 'generation wind offshore',\n",
       "       'generation wind onshore', 'forecast solar day ahead',\n",
       "       'forecast wind offshore eday ahead', 'forecast wind onshore day ahead',\n",
       "       'total load forecast', 'total load actual', 'price day ahead',\n",
       "       'price actual'],\n",
       "      dtype='object')"
      ]
     },
     "execution_count": 5,
     "metadata": {},
     "output_type": "execute_result"
    }
   ],
   "source": [
    "df.columns"
   ]
  },
  {
   "cell_type": "code",
   "execution_count": 6,
   "metadata": {},
   "outputs": [
    {
     "name": "stdout",
     "output_type": "stream",
     "text": [
      "<class 'pandas.core.frame.DataFrame'>\n",
      "RangeIndex: 16569 entries, 0 to 16568\n",
      "Data columns (total 29 columns):\n",
      " #   Column                                       Non-Null Count  Dtype  \n",
      "---  ------                                       --------------  -----  \n",
      " 0   time                                         16569 non-null  object \n",
      " 1   generation biomass                           16552 non-null  float64\n",
      " 2   generation fossil brown coal/lignite         16552 non-null  float64\n",
      " 3   generation fossil coal-derived gas           16552 non-null  float64\n",
      " 4   generation fossil gas                        16552 non-null  float64\n",
      " 5   generation fossil hard coal                  16552 non-null  float64\n",
      " 6   generation fossil oil                        16551 non-null  float64\n",
      " 7   generation fossil oil shale                  16552 non-null  float64\n",
      " 8   generation fossil peat                       16552 non-null  float64\n",
      " 9   generation geothermal                        16552 non-null  float64\n",
      " 10  generation hydro pumped storage aggregated   0 non-null      float64\n",
      " 11  generation hydro pumped storage consumption  16551 non-null  float64\n",
      " 12  generation hydro run-of-river and poundage   16551 non-null  float64\n",
      " 13  generation hydro water reservoir             16552 non-null  float64\n",
      " 14  generation marine                            16551 non-null  float64\n",
      " 15  generation nuclear                           16553 non-null  float64\n",
      " 16  generation other                             16552 non-null  float64\n",
      " 17  generation other renewable                   16552 non-null  float64\n",
      " 18  generation solar                             16552 non-null  float64\n",
      " 19  generation waste                             16551 non-null  float64\n",
      " 20  generation wind offshore                     16552 non-null  float64\n",
      " 21  generation wind onshore                      16552 non-null  float64\n",
      " 22  forecast solar day ahead                     16569 non-null  int64  \n",
      " 23  forecast wind offshore eday ahead            0 non-null      float64\n",
      " 24  forecast wind onshore day ahead              16569 non-null  int64  \n",
      " 25  total load forecast                          16569 non-null  int64  \n",
      " 26  total load actual                            16537 non-null  float64\n",
      " 27  price day ahead                              16569 non-null  float64\n",
      " 28  price actual                                 16569 non-null  float64\n",
      "dtypes: float64(25), int64(3), object(1)\n",
      "memory usage: 3.7+ MB\n"
     ]
    }
   ],
   "source": [
    "df.info()"
   ]
  },
  {
   "cell_type": "code",
   "execution_count": 7,
   "metadata": {},
   "outputs": [
    {
     "data": {
      "text/html": [
       "<div>\n",
       "<style scoped>\n",
       "    .dataframe tbody tr th:only-of-type {\n",
       "        vertical-align: middle;\n",
       "    }\n",
       "\n",
       "    .dataframe tbody tr th {\n",
       "        vertical-align: top;\n",
       "    }\n",
       "\n",
       "    .dataframe thead th {\n",
       "        text-align: right;\n",
       "    }\n",
       "</style>\n",
       "<table border=\"1\" class=\"dataframe\">\n",
       "  <thead>\n",
       "    <tr style=\"text-align: right;\">\n",
       "      <th></th>\n",
       "      <th>generation biomass</th>\n",
       "      <th>generation fossil brown coal/lignite</th>\n",
       "      <th>generation fossil coal-derived gas</th>\n",
       "      <th>generation fossil gas</th>\n",
       "      <th>generation fossil hard coal</th>\n",
       "      <th>generation fossil oil</th>\n",
       "      <th>generation fossil oil shale</th>\n",
       "      <th>generation fossil peat</th>\n",
       "      <th>generation geothermal</th>\n",
       "      <th>generation hydro pumped storage aggregated</th>\n",
       "      <th>...</th>\n",
       "      <th>generation waste</th>\n",
       "      <th>generation wind offshore</th>\n",
       "      <th>generation wind onshore</th>\n",
       "      <th>forecast solar day ahead</th>\n",
       "      <th>forecast wind offshore eday ahead</th>\n",
       "      <th>forecast wind onshore day ahead</th>\n",
       "      <th>total load forecast</th>\n",
       "      <th>total load actual</th>\n",
       "      <th>price day ahead</th>\n",
       "      <th>price actual</th>\n",
       "    </tr>\n",
       "  </thead>\n",
       "  <tbody>\n",
       "    <tr>\n",
       "      <th>count</th>\n",
       "      <td>16552.000000</td>\n",
       "      <td>16552.000000</td>\n",
       "      <td>16552.0</td>\n",
       "      <td>16552.000000</td>\n",
       "      <td>16552.000000</td>\n",
       "      <td>16551.000000</td>\n",
       "      <td>16552.0</td>\n",
       "      <td>16552.0</td>\n",
       "      <td>16552.0</td>\n",
       "      <td>0.0</td>\n",
       "      <td>...</td>\n",
       "      <td>16551.000000</td>\n",
       "      <td>16552.0</td>\n",
       "      <td>16552.000000</td>\n",
       "      <td>16569.000000</td>\n",
       "      <td>0.0</td>\n",
       "      <td>16569.000000</td>\n",
       "      <td>16569.000000</td>\n",
       "      <td>16537.000000</td>\n",
       "      <td>16569.000000</td>\n",
       "      <td>16569.000000</td>\n",
       "    </tr>\n",
       "    <tr>\n",
       "      <th>mean</th>\n",
       "      <td>433.164149</td>\n",
       "      <td>431.282262</td>\n",
       "      <td>0.0</td>\n",
       "      <td>5022.886056</td>\n",
       "      <td>4453.370408</td>\n",
       "      <td>310.129418</td>\n",
       "      <td>0.0</td>\n",
       "      <td>0.0</td>\n",
       "      <td>0.0</td>\n",
       "      <td>NaN</td>\n",
       "      <td>...</td>\n",
       "      <td>238.744003</td>\n",
       "      <td>0.0</td>\n",
       "      <td>5498.574795</td>\n",
       "      <td>1470.693222</td>\n",
       "      <td>NaN</td>\n",
       "      <td>5498.758223</td>\n",
       "      <td>28409.930955</td>\n",
       "      <td>28383.909234</td>\n",
       "      <td>44.475656</td>\n",
       "      <td>53.667367</td>\n",
       "    </tr>\n",
       "    <tr>\n",
       "      <th>std</th>\n",
       "      <td>91.221395</td>\n",
       "      <td>389.813397</td>\n",
       "      <td>0.0</td>\n",
       "      <td>1728.186065</td>\n",
       "      <td>2168.005375</td>\n",
       "      <td>59.506841</td>\n",
       "      <td>0.0</td>\n",
       "      <td>0.0</td>\n",
       "      <td>0.0</td>\n",
       "      <td>NaN</td>\n",
       "      <td>...</td>\n",
       "      <td>49.556536</td>\n",
       "      <td>0.0</td>\n",
       "      <td>3271.684198</td>\n",
       "      <td>1686.149342</td>\n",
       "      <td>NaN</td>\n",
       "      <td>3259.469267</td>\n",
       "      <td>4554.901644</td>\n",
       "      <td>4519.015573</td>\n",
       "      <td>14.525257</td>\n",
       "      <td>14.955132</td>\n",
       "    </tr>\n",
       "    <tr>\n",
       "      <th>min</th>\n",
       "      <td>101.000000</td>\n",
       "      <td>0.000000</td>\n",
       "      <td>0.0</td>\n",
       "      <td>1518.000000</td>\n",
       "      <td>576.000000</td>\n",
       "      <td>87.000000</td>\n",
       "      <td>0.0</td>\n",
       "      <td>0.0</td>\n",
       "      <td>0.0</td>\n",
       "      <td>NaN</td>\n",
       "      <td>...</td>\n",
       "      <td>39.000000</td>\n",
       "      <td>0.0</td>\n",
       "      <td>234.000000</td>\n",
       "      <td>0.000000</td>\n",
       "      <td>NaN</td>\n",
       "      <td>237.000000</td>\n",
       "      <td>18164.000000</td>\n",
       "      <td>18041.000000</td>\n",
       "      <td>2.300000</td>\n",
       "      <td>9.330000</td>\n",
       "    </tr>\n",
       "    <tr>\n",
       "      <th>25%</th>\n",
       "      <td>358.000000</td>\n",
       "      <td>0.000000</td>\n",
       "      <td>0.0</td>\n",
       "      <td>3921.000000</td>\n",
       "      <td>2401.750000</td>\n",
       "      <td>271.000000</td>\n",
       "      <td>0.0</td>\n",
       "      <td>0.0</td>\n",
       "      <td>0.0</td>\n",
       "      <td>NaN</td>\n",
       "      <td>...</td>\n",
       "      <td>205.000000</td>\n",
       "      <td>0.0</td>\n",
       "      <td>2890.000000</td>\n",
       "      <td>77.000000</td>\n",
       "      <td>NaN</td>\n",
       "      <td>2908.000000</td>\n",
       "      <td>24523.000000</td>\n",
       "      <td>24549.000000</td>\n",
       "      <td>35.900000</td>\n",
       "      <td>44.170000</td>\n",
       "    </tr>\n",
       "    <tr>\n",
       "      <th>50%</th>\n",
       "      <td>448.000000</td>\n",
       "      <td>448.000000</td>\n",
       "      <td>0.0</td>\n",
       "      <td>4597.000000</td>\n",
       "      <td>4839.500000</td>\n",
       "      <td>306.000000</td>\n",
       "      <td>0.0</td>\n",
       "      <td>0.0</td>\n",
       "      <td>0.0</td>\n",
       "      <td>NaN</td>\n",
       "      <td>...</td>\n",
       "      <td>245.000000</td>\n",
       "      <td>0.0</td>\n",
       "      <td>4853.500000</td>\n",
       "      <td>606.000000</td>\n",
       "      <td>NaN</td>\n",
       "      <td>4858.000000</td>\n",
       "      <td>28669.000000</td>\n",
       "      <td>28629.000000</td>\n",
       "      <td>45.020000</td>\n",
       "      <td>53.660000</td>\n",
       "    </tr>\n",
       "    <tr>\n",
       "      <th>75%</th>\n",
       "      <td>513.000000</td>\n",
       "      <td>865.000000</td>\n",
       "      <td>0.0</td>\n",
       "      <td>5620.000000</td>\n",
       "      <td>6194.000000</td>\n",
       "      <td>354.000000</td>\n",
       "      <td>0.0</td>\n",
       "      <td>0.0</td>\n",
       "      <td>0.0</td>\n",
       "      <td>NaN</td>\n",
       "      <td>...</td>\n",
       "      <td>273.000000</td>\n",
       "      <td>0.0</td>\n",
       "      <td>7474.250000</td>\n",
       "      <td>2693.000000</td>\n",
       "      <td>NaN</td>\n",
       "      <td>7470.000000</td>\n",
       "      <td>31870.000000</td>\n",
       "      <td>31760.000000</td>\n",
       "      <td>55.440000</td>\n",
       "      <td>64.660000</td>\n",
       "    </tr>\n",
       "    <tr>\n",
       "      <th>max</th>\n",
       "      <td>592.000000</td>\n",
       "      <td>997.000000</td>\n",
       "      <td>0.0</td>\n",
       "      <td>16250.000000</td>\n",
       "      <td>8359.000000</td>\n",
       "      <td>449.000000</td>\n",
       "      <td>0.0</td>\n",
       "      <td>0.0</td>\n",
       "      <td>0.0</td>\n",
       "      <td>NaN</td>\n",
       "      <td>...</td>\n",
       "      <td>343.000000</td>\n",
       "      <td>0.0</td>\n",
       "      <td>17436.000000</td>\n",
       "      <td>5836.000000</td>\n",
       "      <td>NaN</td>\n",
       "      <td>17430.000000</td>\n",
       "      <td>41390.000000</td>\n",
       "      <td>40324.000000</td>\n",
       "      <td>85.050000</td>\n",
       "      <td>102.620000</td>\n",
       "    </tr>\n",
       "  </tbody>\n",
       "</table>\n",
       "<p>8 rows × 28 columns</p>\n",
       "</div>"
      ],
      "text/plain": [
       "       generation biomass  generation fossil brown coal/lignite  \\\n",
       "count        16552.000000                          16552.000000   \n",
       "mean           433.164149                            431.282262   \n",
       "std             91.221395                            389.813397   \n",
       "min            101.000000                              0.000000   \n",
       "25%            358.000000                              0.000000   \n",
       "50%            448.000000                            448.000000   \n",
       "75%            513.000000                            865.000000   \n",
       "max            592.000000                            997.000000   \n",
       "\n",
       "       generation fossil coal-derived gas  generation fossil gas  \\\n",
       "count                             16552.0           16552.000000   \n",
       "mean                                  0.0            5022.886056   \n",
       "std                                   0.0            1728.186065   \n",
       "min                                   0.0            1518.000000   \n",
       "25%                                   0.0            3921.000000   \n",
       "50%                                   0.0            4597.000000   \n",
       "75%                                   0.0            5620.000000   \n",
       "max                                   0.0           16250.000000   \n",
       "\n",
       "       generation fossil hard coal  generation fossil oil  \\\n",
       "count                 16552.000000           16551.000000   \n",
       "mean                   4453.370408             310.129418   \n",
       "std                    2168.005375              59.506841   \n",
       "min                     576.000000              87.000000   \n",
       "25%                    2401.750000             271.000000   \n",
       "50%                    4839.500000             306.000000   \n",
       "75%                    6194.000000             354.000000   \n",
       "max                    8359.000000             449.000000   \n",
       "\n",
       "       generation fossil oil shale  generation fossil peat  \\\n",
       "count                      16552.0                 16552.0   \n",
       "mean                           0.0                     0.0   \n",
       "std                            0.0                     0.0   \n",
       "min                            0.0                     0.0   \n",
       "25%                            0.0                     0.0   \n",
       "50%                            0.0                     0.0   \n",
       "75%                            0.0                     0.0   \n",
       "max                            0.0                     0.0   \n",
       "\n",
       "       generation geothermal  generation hydro pumped storage aggregated  ...  \\\n",
       "count                16552.0                                         0.0  ...   \n",
       "mean                     0.0                                         NaN  ...   \n",
       "std                      0.0                                         NaN  ...   \n",
       "min                      0.0                                         NaN  ...   \n",
       "25%                      0.0                                         NaN  ...   \n",
       "50%                      0.0                                         NaN  ...   \n",
       "75%                      0.0                                         NaN  ...   \n",
       "max                      0.0                                         NaN  ...   \n",
       "\n",
       "       generation waste  generation wind offshore  generation wind onshore  \\\n",
       "count      16551.000000                   16552.0             16552.000000   \n",
       "mean         238.744003                       0.0              5498.574795   \n",
       "std           49.556536                       0.0              3271.684198   \n",
       "min           39.000000                       0.0               234.000000   \n",
       "25%          205.000000                       0.0              2890.000000   \n",
       "50%          245.000000                       0.0              4853.500000   \n",
       "75%          273.000000                       0.0              7474.250000   \n",
       "max          343.000000                       0.0             17436.000000   \n",
       "\n",
       "       forecast solar day ahead  forecast wind offshore eday ahead  \\\n",
       "count              16569.000000                                0.0   \n",
       "mean                1470.693222                                NaN   \n",
       "std                 1686.149342                                NaN   \n",
       "min                    0.000000                                NaN   \n",
       "25%                   77.000000                                NaN   \n",
       "50%                  606.000000                                NaN   \n",
       "75%                 2693.000000                                NaN   \n",
       "max                 5836.000000                                NaN   \n",
       "\n",
       "       forecast wind onshore day ahead  total load forecast  \\\n",
       "count                     16569.000000         16569.000000   \n",
       "mean                       5498.758223         28409.930955   \n",
       "std                        3259.469267          4554.901644   \n",
       "min                         237.000000         18164.000000   \n",
       "25%                        2908.000000         24523.000000   \n",
       "50%                        4858.000000         28669.000000   \n",
       "75%                        7470.000000         31870.000000   \n",
       "max                       17430.000000         41390.000000   \n",
       "\n",
       "       total load actual  price day ahead  price actual  \n",
       "count       16537.000000     16569.000000  16569.000000  \n",
       "mean        28383.909234        44.475656     53.667367  \n",
       "std          4519.015573        14.525257     14.955132  \n",
       "min         18041.000000         2.300000      9.330000  \n",
       "25%         24549.000000        35.900000     44.170000  \n",
       "50%         28629.000000        45.020000     53.660000  \n",
       "75%         31760.000000        55.440000     64.660000  \n",
       "max         40324.000000        85.050000    102.620000  \n",
       "\n",
       "[8 rows x 28 columns]"
      ]
     },
     "execution_count": 7,
     "metadata": {},
     "output_type": "execute_result"
    }
   ],
   "source": [
    "df.describe()"
   ]
  },
  {
   "cell_type": "code",
   "execution_count": 8,
   "metadata": {},
   "outputs": [
    {
     "data": {
      "text/plain": [
       "time                                               0\n",
       "generation biomass                                17\n",
       "generation fossil brown coal/lignite              17\n",
       "generation fossil coal-derived gas                17\n",
       "generation fossil gas                             17\n",
       "generation fossil hard coal                       17\n",
       "generation fossil oil                             18\n",
       "generation fossil oil shale                       17\n",
       "generation fossil peat                            17\n",
       "generation geothermal                             17\n",
       "generation hydro pumped storage aggregated     16569\n",
       "generation hydro pumped storage consumption       18\n",
       "generation hydro run-of-river and poundage        18\n",
       "generation hydro water reservoir                  17\n",
       "generation marine                                 18\n",
       "generation nuclear                                16\n",
       "generation other                                  17\n",
       "generation other renewable                        17\n",
       "generation solar                                  17\n",
       "generation waste                                  18\n",
       "generation wind offshore                          17\n",
       "generation wind onshore                           17\n",
       "forecast solar day ahead                           0\n",
       "forecast wind offshore eday ahead              16569\n",
       "forecast wind onshore day ahead                    0\n",
       "total load forecast                                0\n",
       "total load actual                                 32\n",
       "price day ahead                                    0\n",
       "price actual                                       0\n",
       "dtype: int64"
      ]
     },
     "execution_count": 8,
     "metadata": {},
     "output_type": "execute_result"
    }
   ],
   "source": [
    "df.isnull().sum()"
   ]
  },
  {
   "cell_type": "markdown",
   "metadata": {},
   "source": [
    "## Null value handling"
   ]
  },
  {
   "cell_type": "code",
   "execution_count": 9,
   "metadata": {},
   "outputs": [],
   "source": [
    "# dropping \"forecast wind offshore eday ahead\" and \n",
    "# \"generation hydro pumped storage aggregated\" as they contain only null values\n",
    "\n",
    "df = df.drop([\"generation hydro pumped storage aggregated\", \n",
    "              \"forecast wind offshore eday ahead\"], axis = 1)"
   ]
  },
  {
   "cell_type": "code",
   "execution_count": 10,
   "metadata": {},
   "outputs": [],
   "source": [
    "# dropping rows containing null values\n",
    "df = df.dropna()"
   ]
  },
  {
   "cell_type": "code",
   "execution_count": 11,
   "metadata": {},
   "outputs": [
    {
     "name": "stdout",
     "output_type": "stream",
     "text": [
      "<class 'pandas.core.frame.DataFrame'>\n",
      "Int64Index: 16527 entries, 0 to 16568\n",
      "Data columns (total 27 columns):\n",
      " #   Column                                       Non-Null Count  Dtype  \n",
      "---  ------                                       --------------  -----  \n",
      " 0   time                                         16527 non-null  object \n",
      " 1   generation biomass                           16527 non-null  float64\n",
      " 2   generation fossil brown coal/lignite         16527 non-null  float64\n",
      " 3   generation fossil coal-derived gas           16527 non-null  float64\n",
      " 4   generation fossil gas                        16527 non-null  float64\n",
      " 5   generation fossil hard coal                  16527 non-null  float64\n",
      " 6   generation fossil oil                        16527 non-null  float64\n",
      " 7   generation fossil oil shale                  16527 non-null  float64\n",
      " 8   generation fossil peat                       16527 non-null  float64\n",
      " 9   generation geothermal                        16527 non-null  float64\n",
      " 10  generation hydro pumped storage consumption  16527 non-null  float64\n",
      " 11  generation hydro run-of-river and poundage   16527 non-null  float64\n",
      " 12  generation hydro water reservoir             16527 non-null  float64\n",
      " 13  generation marine                            16527 non-null  float64\n",
      " 14  generation nuclear                           16527 non-null  float64\n",
      " 15  generation other                             16527 non-null  float64\n",
      " 16  generation other renewable                   16527 non-null  float64\n",
      " 17  generation solar                             16527 non-null  float64\n",
      " 18  generation waste                             16527 non-null  float64\n",
      " 19  generation wind offshore                     16527 non-null  float64\n",
      " 20  generation wind onshore                      16527 non-null  float64\n",
      " 21  forecast solar day ahead                     16527 non-null  int64  \n",
      " 22  forecast wind onshore day ahead              16527 non-null  int64  \n",
      " 23  total load forecast                          16527 non-null  int64  \n",
      " 24  total load actual                            16527 non-null  float64\n",
      " 25  price day ahead                              16527 non-null  float64\n",
      " 26  price actual                                 16527 non-null  float64\n",
      "dtypes: float64(23), int64(3), object(1)\n",
      "memory usage: 3.5+ MB\n"
     ]
    },
    {
     "data": {
      "text/plain": [
       "time                                           0\n",
       "generation biomass                             0\n",
       "generation fossil brown coal/lignite           0\n",
       "generation fossil coal-derived gas             0\n",
       "generation fossil gas                          0\n",
       "generation fossil hard coal                    0\n",
       "generation fossil oil                          0\n",
       "generation fossil oil shale                    0\n",
       "generation fossil peat                         0\n",
       "generation geothermal                          0\n",
       "generation hydro pumped storage consumption    0\n",
       "generation hydro run-of-river and poundage     0\n",
       "generation hydro water reservoir               0\n",
       "generation marine                              0\n",
       "generation nuclear                             0\n",
       "generation other                               0\n",
       "generation other renewable                     0\n",
       "generation solar                               0\n",
       "generation waste                               0\n",
       "generation wind offshore                       0\n",
       "generation wind onshore                        0\n",
       "forecast solar day ahead                       0\n",
       "forecast wind onshore day ahead                0\n",
       "total load forecast                            0\n",
       "total load actual                              0\n",
       "price day ahead                                0\n",
       "price actual                                   0\n",
       "dtype: int64"
      ]
     },
     "execution_count": 11,
     "metadata": {},
     "output_type": "execute_result"
    }
   ],
   "source": [
    "df.info()\n",
    "df.isnull().sum()"
   ]
  },
  {
   "cell_type": "code",
   "execution_count": 12,
   "metadata": {},
   "outputs": [
    {
     "data": {
      "text/plain": [
       "time                                           16527\n",
       "generation biomass                               420\n",
       "generation fossil brown coal/lignite             918\n",
       "generation fossil coal-derived gas                 1\n",
       "generation fossil gas                           5478\n",
       "generation fossil hard coal                     6521\n",
       "generation fossil oil                            312\n",
       "generation fossil oil shale                        1\n",
       "generation fossil peat                             1\n",
       "generation geothermal                              1\n",
       "generation hydro pumped storage consumption     2796\n",
       "generation hydro run-of-river and poundage      1586\n",
       "generation hydro water reservoir                6267\n",
       "generation marine                                  1\n",
       "generation nuclear                              1872\n",
       "generation other                                  96\n",
       "generation other renewable                        60\n",
       "generation solar                                4443\n",
       "generation waste                                 247\n",
       "generation wind offshore                           1\n",
       "generation wind onshore                         8718\n",
       "forecast solar day ahead                        4480\n",
       "forecast wind onshore day ahead                 8703\n",
       "total load forecast                             9350\n",
       "total load actual                              10530\n",
       "price day ahead                                 4177\n",
       "price actual                                    5724\n",
       "dtype: int64"
      ]
     },
     "execution_count": 12,
     "metadata": {},
     "output_type": "execute_result"
    }
   ],
   "source": [
    "df.nunique()"
   ]
  },
  {
   "cell_type": "code",
   "execution_count": 13,
   "metadata": {},
   "outputs": [
    {
     "data": {
      "text/html": [
       "<div>\n",
       "<style scoped>\n",
       "    .dataframe tbody tr th:only-of-type {\n",
       "        vertical-align: middle;\n",
       "    }\n",
       "\n",
       "    .dataframe tbody tr th {\n",
       "        vertical-align: top;\n",
       "    }\n",
       "\n",
       "    .dataframe thead th {\n",
       "        text-align: right;\n",
       "    }\n",
       "</style>\n",
       "<table border=\"1\" class=\"dataframe\">\n",
       "  <thead>\n",
       "    <tr style=\"text-align: right;\">\n",
       "      <th></th>\n",
       "      <th>time</th>\n",
       "      <th>generation biomass</th>\n",
       "      <th>generation fossil brown coal/lignite</th>\n",
       "      <th>generation fossil coal-derived gas</th>\n",
       "      <th>generation fossil gas</th>\n",
       "      <th>generation fossil hard coal</th>\n",
       "      <th>generation fossil oil</th>\n",
       "      <th>generation fossil oil shale</th>\n",
       "      <th>generation fossil peat</th>\n",
       "      <th>generation geothermal</th>\n",
       "      <th>...</th>\n",
       "      <th>generation solar</th>\n",
       "      <th>generation waste</th>\n",
       "      <th>generation wind offshore</th>\n",
       "      <th>generation wind onshore</th>\n",
       "      <th>forecast solar day ahead</th>\n",
       "      <th>forecast wind onshore day ahead</th>\n",
       "      <th>total load forecast</th>\n",
       "      <th>total load actual</th>\n",
       "      <th>price day ahead</th>\n",
       "      <th>price actual</th>\n",
       "    </tr>\n",
       "  </thead>\n",
       "  <tbody>\n",
       "    <tr>\n",
       "      <th>0</th>\n",
       "      <td>2015-01-01 00:00:00+01:00</td>\n",
       "      <td>447.0</td>\n",
       "      <td>329.0</td>\n",
       "      <td>0.0</td>\n",
       "      <td>4844.0</td>\n",
       "      <td>4821.0</td>\n",
       "      <td>162.0</td>\n",
       "      <td>0.0</td>\n",
       "      <td>0.0</td>\n",
       "      <td>0.0</td>\n",
       "      <td>...</td>\n",
       "      <td>49.0</td>\n",
       "      <td>196.0</td>\n",
       "      <td>0.0</td>\n",
       "      <td>6378.0</td>\n",
       "      <td>17</td>\n",
       "      <td>6436</td>\n",
       "      <td>26118</td>\n",
       "      <td>25385.0</td>\n",
       "      <td>50.10</td>\n",
       "      <td>65.41</td>\n",
       "    </tr>\n",
       "    <tr>\n",
       "      <th>1</th>\n",
       "      <td>2015-01-01 01:00:00+01:00</td>\n",
       "      <td>449.0</td>\n",
       "      <td>328.0</td>\n",
       "      <td>0.0</td>\n",
       "      <td>5196.0</td>\n",
       "      <td>4755.0</td>\n",
       "      <td>158.0</td>\n",
       "      <td>0.0</td>\n",
       "      <td>0.0</td>\n",
       "      <td>0.0</td>\n",
       "      <td>...</td>\n",
       "      <td>50.0</td>\n",
       "      <td>195.0</td>\n",
       "      <td>0.0</td>\n",
       "      <td>5890.0</td>\n",
       "      <td>16</td>\n",
       "      <td>5856</td>\n",
       "      <td>24934</td>\n",
       "      <td>24382.0</td>\n",
       "      <td>48.10</td>\n",
       "      <td>64.92</td>\n",
       "    </tr>\n",
       "    <tr>\n",
       "      <th>2</th>\n",
       "      <td>2015-01-01 02:00:00+01:00</td>\n",
       "      <td>448.0</td>\n",
       "      <td>323.0</td>\n",
       "      <td>0.0</td>\n",
       "      <td>4857.0</td>\n",
       "      <td>4581.0</td>\n",
       "      <td>157.0</td>\n",
       "      <td>0.0</td>\n",
       "      <td>0.0</td>\n",
       "      <td>0.0</td>\n",
       "      <td>...</td>\n",
       "      <td>50.0</td>\n",
       "      <td>196.0</td>\n",
       "      <td>0.0</td>\n",
       "      <td>5461.0</td>\n",
       "      <td>8</td>\n",
       "      <td>5454</td>\n",
       "      <td>23515</td>\n",
       "      <td>22734.0</td>\n",
       "      <td>47.33</td>\n",
       "      <td>64.48</td>\n",
       "    </tr>\n",
       "    <tr>\n",
       "      <th>3</th>\n",
       "      <td>2015-01-01 03:00:00+01:00</td>\n",
       "      <td>438.0</td>\n",
       "      <td>254.0</td>\n",
       "      <td>0.0</td>\n",
       "      <td>4314.0</td>\n",
       "      <td>4131.0</td>\n",
       "      <td>160.0</td>\n",
       "      <td>0.0</td>\n",
       "      <td>0.0</td>\n",
       "      <td>0.0</td>\n",
       "      <td>...</td>\n",
       "      <td>50.0</td>\n",
       "      <td>191.0</td>\n",
       "      <td>0.0</td>\n",
       "      <td>5238.0</td>\n",
       "      <td>2</td>\n",
       "      <td>5151</td>\n",
       "      <td>22642</td>\n",
       "      <td>21286.0</td>\n",
       "      <td>42.27</td>\n",
       "      <td>59.32</td>\n",
       "    </tr>\n",
       "    <tr>\n",
       "      <th>4</th>\n",
       "      <td>2015-01-01 04:00:00+01:00</td>\n",
       "      <td>428.0</td>\n",
       "      <td>187.0</td>\n",
       "      <td>0.0</td>\n",
       "      <td>4130.0</td>\n",
       "      <td>3840.0</td>\n",
       "      <td>156.0</td>\n",
       "      <td>0.0</td>\n",
       "      <td>0.0</td>\n",
       "      <td>0.0</td>\n",
       "      <td>...</td>\n",
       "      <td>42.0</td>\n",
       "      <td>189.0</td>\n",
       "      <td>0.0</td>\n",
       "      <td>4935.0</td>\n",
       "      <td>9</td>\n",
       "      <td>4861</td>\n",
       "      <td>21785</td>\n",
       "      <td>20264.0</td>\n",
       "      <td>38.41</td>\n",
       "      <td>56.04</td>\n",
       "    </tr>\n",
       "  </tbody>\n",
       "</table>\n",
       "<p>5 rows × 27 columns</p>\n",
       "</div>"
      ],
      "text/plain": [
       "                        time  generation biomass  \\\n",
       "0  2015-01-01 00:00:00+01:00               447.0   \n",
       "1  2015-01-01 01:00:00+01:00               449.0   \n",
       "2  2015-01-01 02:00:00+01:00               448.0   \n",
       "3  2015-01-01 03:00:00+01:00               438.0   \n",
       "4  2015-01-01 04:00:00+01:00               428.0   \n",
       "\n",
       "   generation fossil brown coal/lignite  generation fossil coal-derived gas  \\\n",
       "0                                 329.0                                 0.0   \n",
       "1                                 328.0                                 0.0   \n",
       "2                                 323.0                                 0.0   \n",
       "3                                 254.0                                 0.0   \n",
       "4                                 187.0                                 0.0   \n",
       "\n",
       "   generation fossil gas  generation fossil hard coal  generation fossil oil  \\\n",
       "0                 4844.0                       4821.0                  162.0   \n",
       "1                 5196.0                       4755.0                  158.0   \n",
       "2                 4857.0                       4581.0                  157.0   \n",
       "3                 4314.0                       4131.0                  160.0   \n",
       "4                 4130.0                       3840.0                  156.0   \n",
       "\n",
       "   generation fossil oil shale  generation fossil peat  generation geothermal  \\\n",
       "0                          0.0                     0.0                    0.0   \n",
       "1                          0.0                     0.0                    0.0   \n",
       "2                          0.0                     0.0                    0.0   \n",
       "3                          0.0                     0.0                    0.0   \n",
       "4                          0.0                     0.0                    0.0   \n",
       "\n",
       "   ...  generation solar  generation waste  generation wind offshore  \\\n",
       "0  ...              49.0             196.0                       0.0   \n",
       "1  ...              50.0             195.0                       0.0   \n",
       "2  ...              50.0             196.0                       0.0   \n",
       "3  ...              50.0             191.0                       0.0   \n",
       "4  ...              42.0             189.0                       0.0   \n",
       "\n",
       "   generation wind onshore  forecast solar day ahead  \\\n",
       "0                   6378.0                        17   \n",
       "1                   5890.0                        16   \n",
       "2                   5461.0                         8   \n",
       "3                   5238.0                         2   \n",
       "4                   4935.0                         9   \n",
       "\n",
       "   forecast wind onshore day ahead  total load forecast  total load actual  \\\n",
       "0                             6436                26118            25385.0   \n",
       "1                             5856                24934            24382.0   \n",
       "2                             5454                23515            22734.0   \n",
       "3                             5151                22642            21286.0   \n",
       "4                             4861                21785            20264.0   \n",
       "\n",
       "   price day ahead  price actual  \n",
       "0            50.10         65.41  \n",
       "1            48.10         64.92  \n",
       "2            47.33         64.48  \n",
       "3            42.27         59.32  \n",
       "4            38.41         56.04  \n",
       "\n",
       "[5 rows x 27 columns]"
      ]
     },
     "execution_count": 13,
     "metadata": {},
     "output_type": "execute_result"
    }
   ],
   "source": [
    "df.head()"
   ]
  },
  {
   "cell_type": "code",
   "execution_count": 14,
   "metadata": {},
   "outputs": [],
   "source": [
    "# dropping time for now\n",
    "df = df.drop(['time'], axis = 1)"
   ]
  },
  {
   "cell_type": "code",
   "execution_count": 15,
   "metadata": {},
   "outputs": [],
   "source": [
    "# dropping columns having only single values\n",
    "df = df.drop(['generation fossil coal-derived gas', \n",
    "             'generation fossil oil shale', \n",
    "             'generation fossil peat', \n",
    "             'generation geothermal', \n",
    "             'generation marine', \n",
    "             'generation wind offshore'], axis = 1)"
   ]
  },
  {
   "cell_type": "code",
   "execution_count": 16,
   "metadata": {},
   "outputs": [
    {
     "data": {
      "text/html": [
       "<div>\n",
       "<style scoped>\n",
       "    .dataframe tbody tr th:only-of-type {\n",
       "        vertical-align: middle;\n",
       "    }\n",
       "\n",
       "    .dataframe tbody tr th {\n",
       "        vertical-align: top;\n",
       "    }\n",
       "\n",
       "    .dataframe thead th {\n",
       "        text-align: right;\n",
       "    }\n",
       "</style>\n",
       "<table border=\"1\" class=\"dataframe\">\n",
       "  <thead>\n",
       "    <tr style=\"text-align: right;\">\n",
       "      <th></th>\n",
       "      <th>generation biomass</th>\n",
       "      <th>generation fossil brown coal/lignite</th>\n",
       "      <th>generation fossil gas</th>\n",
       "      <th>generation fossil hard coal</th>\n",
       "      <th>generation fossil oil</th>\n",
       "      <th>generation hydro pumped storage consumption</th>\n",
       "      <th>generation hydro run-of-river and poundage</th>\n",
       "      <th>generation hydro water reservoir</th>\n",
       "      <th>generation nuclear</th>\n",
       "      <th>generation other</th>\n",
       "      <th>generation other renewable</th>\n",
       "      <th>generation solar</th>\n",
       "      <th>generation waste</th>\n",
       "      <th>generation wind onshore</th>\n",
       "      <th>forecast solar day ahead</th>\n",
       "      <th>forecast wind onshore day ahead</th>\n",
       "      <th>total load forecast</th>\n",
       "      <th>total load actual</th>\n",
       "      <th>price day ahead</th>\n",
       "      <th>price actual</th>\n",
       "    </tr>\n",
       "  </thead>\n",
       "  <tbody>\n",
       "    <tr>\n",
       "      <th>generation biomass</th>\n",
       "      <td>1.000000</td>\n",
       "      <td>0.269333</td>\n",
       "      <td>0.084413</td>\n",
       "      <td>0.493783</td>\n",
       "      <td>0.501004</td>\n",
       "      <td>-0.084706</td>\n",
       "      <td>-0.333251</td>\n",
       "      <td>-0.162166</td>\n",
       "      <td>-0.130755</td>\n",
       "      <td>0.689024</td>\n",
       "      <td>-0.404610</td>\n",
       "      <td>-0.042877</td>\n",
       "      <td>-0.125411</td>\n",
       "      <td>-0.040659</td>\n",
       "      <td>-0.045573</td>\n",
       "      <td>-0.042073</td>\n",
       "      <td>0.142781</td>\n",
       "      <td>0.141721</td>\n",
       "      <td>0.432945</td>\n",
       "      <td>0.459019</td>\n",
       "    </tr>\n",
       "    <tr>\n",
       "      <th>generation fossil brown coal/lignite</th>\n",
       "      <td>0.269333</td>\n",
       "      <td>1.000000</td>\n",
       "      <td>0.559411</td>\n",
       "      <td>0.836700</td>\n",
       "      <td>0.362161</td>\n",
       "      <td>-0.365730</td>\n",
       "      <td>-0.521200</td>\n",
       "      <td>-0.219865</td>\n",
       "      <td>-0.073905</td>\n",
       "      <td>0.176195</td>\n",
       "      <td>0.144068</td>\n",
       "      <td>0.061419</td>\n",
       "      <td>0.421326</td>\n",
       "      <td>-0.489034</td>\n",
       "      <td>0.064092</td>\n",
       "      <td>-0.489490</td>\n",
       "      <td>0.286581</td>\n",
       "      <td>0.288229</td>\n",
       "      <td>0.692398</td>\n",
       "      <td>0.452190</td>\n",
       "    </tr>\n",
       "    <tr>\n",
       "      <th>generation fossil gas</th>\n",
       "      <td>0.084413</td>\n",
       "      <td>0.559411</td>\n",
       "      <td>1.000000</td>\n",
       "      <td>0.591846</td>\n",
       "      <td>0.355537</td>\n",
       "      <td>-0.442106</td>\n",
       "      <td>-0.286408</td>\n",
       "      <td>0.113439</td>\n",
       "      <td>-0.018597</td>\n",
       "      <td>0.052323</td>\n",
       "      <td>0.338028</td>\n",
       "      <td>0.054442</td>\n",
       "      <td>0.330771</td>\n",
       "      <td>-0.469760</td>\n",
       "      <td>0.063064</td>\n",
       "      <td>-0.470954</td>\n",
       "      <td>0.508284</td>\n",
       "      <td>0.512968</td>\n",
       "      <td>0.691463</td>\n",
       "      <td>0.455885</td>\n",
       "    </tr>\n",
       "    <tr>\n",
       "      <th>generation fossil hard coal</th>\n",
       "      <td>0.493783</td>\n",
       "      <td>0.836700</td>\n",
       "      <td>0.591846</td>\n",
       "      <td>1.000000</td>\n",
       "      <td>0.493768</td>\n",
       "      <td>-0.455732</td>\n",
       "      <td>-0.571277</td>\n",
       "      <td>-0.240166</td>\n",
       "      <td>-0.025695</td>\n",
       "      <td>0.332282</td>\n",
       "      <td>0.050921</td>\n",
       "      <td>0.072058</td>\n",
       "      <td>0.368203</td>\n",
       "      <td>-0.525176</td>\n",
       "      <td>0.075260</td>\n",
       "      <td>-0.526793</td>\n",
       "      <td>0.366005</td>\n",
       "      <td>0.368105</td>\n",
       "      <td>0.834051</td>\n",
       "      <td>0.595878</td>\n",
       "    </tr>\n",
       "    <tr>\n",
       "      <th>generation fossil oil</th>\n",
       "      <td>0.501004</td>\n",
       "      <td>0.362161</td>\n",
       "      <td>0.355537</td>\n",
       "      <td>0.493768</td>\n",
       "      <td>1.000000</td>\n",
       "      <td>-0.369389</td>\n",
       "      <td>-0.088599</td>\n",
       "      <td>0.138782</td>\n",
       "      <td>-0.062979</td>\n",
       "      <td>0.411941</td>\n",
       "      <td>-0.042906</td>\n",
       "      <td>0.085478</td>\n",
       "      <td>-0.112008</td>\n",
       "      <td>-0.077952</td>\n",
       "      <td>0.086007</td>\n",
       "      <td>-0.080335</td>\n",
       "      <td>0.525350</td>\n",
       "      <td>0.523693</td>\n",
       "      <td>0.505045</td>\n",
       "      <td>0.478884</td>\n",
       "    </tr>\n",
       "    <tr>\n",
       "      <th>generation hydro pumped storage consumption</th>\n",
       "      <td>-0.084706</td>\n",
       "      <td>-0.365730</td>\n",
       "      <td>-0.442106</td>\n",
       "      <td>-0.455732</td>\n",
       "      <td>-0.369389</td>\n",
       "      <td>1.000000</td>\n",
       "      <td>0.066210</td>\n",
       "      <td>-0.259599</td>\n",
       "      <td>-0.040797</td>\n",
       "      <td>0.023817</td>\n",
       "      <td>-0.310920</td>\n",
       "      <td>-0.249971</td>\n",
       "      <td>-0.250089</td>\n",
       "      <td>0.381634</td>\n",
       "      <td>-0.258057</td>\n",
       "      <td>0.383353</td>\n",
       "      <td>-0.606973</td>\n",
       "      <td>-0.609581</td>\n",
       "      <td>-0.624625</td>\n",
       "      <td>-0.428538</td>\n",
       "    </tr>\n",
       "    <tr>\n",
       "      <th>generation hydro run-of-river and poundage</th>\n",
       "      <td>-0.333251</td>\n",
       "      <td>-0.521200</td>\n",
       "      <td>-0.286408</td>\n",
       "      <td>-0.571277</td>\n",
       "      <td>-0.088599</td>\n",
       "      <td>0.066210</td>\n",
       "      <td>1.000000</td>\n",
       "      <td>0.717449</td>\n",
       "      <td>0.074064</td>\n",
       "      <td>-0.219436</td>\n",
       "      <td>-0.081765</td>\n",
       "      <td>0.056022</td>\n",
       "      <td>-0.514166</td>\n",
       "      <td>0.253256</td>\n",
       "      <td>0.056815</td>\n",
       "      <td>0.253877</td>\n",
       "      <td>0.155904</td>\n",
       "      <td>0.154206</td>\n",
       "      <td>-0.469802</td>\n",
       "      <td>-0.269146</td>\n",
       "    </tr>\n",
       "    <tr>\n",
       "      <th>generation hydro water reservoir</th>\n",
       "      <td>-0.162166</td>\n",
       "      <td>-0.219865</td>\n",
       "      <td>0.113439</td>\n",
       "      <td>-0.240166</td>\n",
       "      <td>0.138782</td>\n",
       "      <td>-0.259599</td>\n",
       "      <td>0.717449</td>\n",
       "      <td>1.000000</td>\n",
       "      <td>0.005094</td>\n",
       "      <td>-0.060626</td>\n",
       "      <td>0.067184</td>\n",
       "      <td>0.102247</td>\n",
       "      <td>-0.297514</td>\n",
       "      <td>-0.006301</td>\n",
       "      <td>0.113850</td>\n",
       "      <td>-0.004920</td>\n",
       "      <td>0.519291</td>\n",
       "      <td>0.522876</td>\n",
       "      <td>-0.072796</td>\n",
       "      <td>0.015521</td>\n",
       "    </tr>\n",
       "    <tr>\n",
       "      <th>generation nuclear</th>\n",
       "      <td>-0.130755</td>\n",
       "      <td>-0.073905</td>\n",
       "      <td>-0.018597</td>\n",
       "      <td>-0.025695</td>\n",
       "      <td>-0.062979</td>\n",
       "      <td>-0.040797</td>\n",
       "      <td>0.074064</td>\n",
       "      <td>0.005094</td>\n",
       "      <td>1.000000</td>\n",
       "      <td>-0.050943</td>\n",
       "      <td>0.035584</td>\n",
       "      <td>0.026608</td>\n",
       "      <td>0.064792</td>\n",
       "      <td>-0.025912</td>\n",
       "      <td>0.026529</td>\n",
       "      <td>-0.026790</td>\n",
       "      <td>0.125810</td>\n",
       "      <td>0.118475</td>\n",
       "      <td>-0.061192</td>\n",
       "      <td>-0.058056</td>\n",
       "    </tr>\n",
       "    <tr>\n",
       "      <th>generation other</th>\n",
       "      <td>0.689024</td>\n",
       "      <td>0.176195</td>\n",
       "      <td>0.052323</td>\n",
       "      <td>0.332282</td>\n",
       "      <td>0.411941</td>\n",
       "      <td>0.023817</td>\n",
       "      <td>-0.219436</td>\n",
       "      <td>-0.060626</td>\n",
       "      <td>-0.050943</td>\n",
       "      <td>1.000000</td>\n",
       "      <td>-0.365915</td>\n",
       "      <td>-0.046674</td>\n",
       "      <td>-0.141582</td>\n",
       "      <td>0.081776</td>\n",
       "      <td>-0.047682</td>\n",
       "      <td>0.081673</td>\n",
       "      <td>0.159563</td>\n",
       "      <td>0.159723</td>\n",
       "      <td>0.241046</td>\n",
       "      <td>0.295537</td>\n",
       "    </tr>\n",
       "    <tr>\n",
       "      <th>generation other renewable</th>\n",
       "      <td>-0.404610</td>\n",
       "      <td>0.144068</td>\n",
       "      <td>0.338028</td>\n",
       "      <td>0.050921</td>\n",
       "      <td>-0.042906</td>\n",
       "      <td>-0.310920</td>\n",
       "      <td>-0.081765</td>\n",
       "      <td>0.067184</td>\n",
       "      <td>0.035584</td>\n",
       "      <td>-0.365915</td>\n",
       "      <td>1.000000</td>\n",
       "      <td>0.044436</td>\n",
       "      <td>0.469816</td>\n",
       "      <td>-0.230607</td>\n",
       "      <td>0.043624</td>\n",
       "      <td>-0.233067</td>\n",
       "      <td>0.208601</td>\n",
       "      <td>0.212034</td>\n",
       "      <td>0.161671</td>\n",
       "      <td>-0.100459</td>\n",
       "    </tr>\n",
       "    <tr>\n",
       "      <th>generation solar</th>\n",
       "      <td>-0.042877</td>\n",
       "      <td>0.061419</td>\n",
       "      <td>0.054442</td>\n",
       "      <td>0.072058</td>\n",
       "      <td>0.085478</td>\n",
       "      <td>-0.249971</td>\n",
       "      <td>0.056022</td>\n",
       "      <td>0.102247</td>\n",
       "      <td>0.026608</td>\n",
       "      <td>-0.046674</td>\n",
       "      <td>0.044436</td>\n",
       "      <td>1.000000</td>\n",
       "      <td>0.055234</td>\n",
       "      <td>-0.142608</td>\n",
       "      <td>0.993291</td>\n",
       "      <td>-0.147607</td>\n",
       "      <td>0.411287</td>\n",
       "      <td>0.406927</td>\n",
       "      <td>0.102779</td>\n",
       "      <td>0.123990</td>\n",
       "    </tr>\n",
       "    <tr>\n",
       "      <th>generation waste</th>\n",
       "      <td>-0.125411</td>\n",
       "      <td>0.421326</td>\n",
       "      <td>0.330771</td>\n",
       "      <td>0.368203</td>\n",
       "      <td>-0.112008</td>\n",
       "      <td>-0.250089</td>\n",
       "      <td>-0.514166</td>\n",
       "      <td>-0.297514</td>\n",
       "      <td>0.064792</td>\n",
       "      <td>-0.141582</td>\n",
       "      <td>0.469816</td>\n",
       "      <td>0.055234</td>\n",
       "      <td>1.000000</td>\n",
       "      <td>-0.349830</td>\n",
       "      <td>0.054675</td>\n",
       "      <td>-0.351047</td>\n",
       "      <td>0.065853</td>\n",
       "      <td>0.067626</td>\n",
       "      <td>0.284424</td>\n",
       "      <td>0.025184</td>\n",
       "    </tr>\n",
       "    <tr>\n",
       "      <th>generation wind onshore</th>\n",
       "      <td>-0.040659</td>\n",
       "      <td>-0.489034</td>\n",
       "      <td>-0.469760</td>\n",
       "      <td>-0.525176</td>\n",
       "      <td>-0.077952</td>\n",
       "      <td>0.381634</td>\n",
       "      <td>0.253256</td>\n",
       "      <td>-0.006301</td>\n",
       "      <td>-0.025912</td>\n",
       "      <td>0.081776</td>\n",
       "      <td>-0.230607</td>\n",
       "      <td>-0.142608</td>\n",
       "      <td>-0.349830</td>\n",
       "      <td>1.000000</td>\n",
       "      <td>-0.144895</td>\n",
       "      <td>0.998910</td>\n",
       "      <td>0.023194</td>\n",
       "      <td>0.025929</td>\n",
       "      <td>-0.510045</td>\n",
       "      <td>-0.245027</td>\n",
       "    </tr>\n",
       "    <tr>\n",
       "      <th>forecast solar day ahead</th>\n",
       "      <td>-0.045573</td>\n",
       "      <td>0.064092</td>\n",
       "      <td>0.063064</td>\n",
       "      <td>0.075260</td>\n",
       "      <td>0.086007</td>\n",
       "      <td>-0.258057</td>\n",
       "      <td>0.056815</td>\n",
       "      <td>0.113850</td>\n",
       "      <td>0.026529</td>\n",
       "      <td>-0.047682</td>\n",
       "      <td>0.043624</td>\n",
       "      <td>0.993291</td>\n",
       "      <td>0.054675</td>\n",
       "      <td>-0.144895</td>\n",
       "      <td>1.000000</td>\n",
       "      <td>-0.149859</td>\n",
       "      <td>0.422104</td>\n",
       "      <td>0.418558</td>\n",
       "      <td>0.106647</td>\n",
       "      <td>0.127138</td>\n",
       "    </tr>\n",
       "    <tr>\n",
       "      <th>forecast wind onshore day ahead</th>\n",
       "      <td>-0.042073</td>\n",
       "      <td>-0.489490</td>\n",
       "      <td>-0.470954</td>\n",
       "      <td>-0.526793</td>\n",
       "      <td>-0.080335</td>\n",
       "      <td>0.383353</td>\n",
       "      <td>0.253877</td>\n",
       "      <td>-0.004920</td>\n",
       "      <td>-0.026790</td>\n",
       "      <td>0.081673</td>\n",
       "      <td>-0.233067</td>\n",
       "      <td>-0.147607</td>\n",
       "      <td>-0.351047</td>\n",
       "      <td>0.998910</td>\n",
       "      <td>-0.149859</td>\n",
       "      <td>1.000000</td>\n",
       "      <td>0.020152</td>\n",
       "      <td>0.022378</td>\n",
       "      <td>-0.512500</td>\n",
       "      <td>-0.246847</td>\n",
       "    </tr>\n",
       "    <tr>\n",
       "      <th>total load forecast</th>\n",
       "      <td>0.142781</td>\n",
       "      <td>0.286581</td>\n",
       "      <td>0.508284</td>\n",
       "      <td>0.366005</td>\n",
       "      <td>0.525350</td>\n",
       "      <td>-0.606973</td>\n",
       "      <td>0.155904</td>\n",
       "      <td>0.519291</td>\n",
       "      <td>0.125810</td>\n",
       "      <td>0.159563</td>\n",
       "      <td>0.208601</td>\n",
       "      <td>0.411287</td>\n",
       "      <td>0.065853</td>\n",
       "      <td>0.023194</td>\n",
       "      <td>0.422104</td>\n",
       "      <td>0.020152</td>\n",
       "      <td>1.000000</td>\n",
       "      <td>0.994148</td>\n",
       "      <td>0.467748</td>\n",
       "      <td>0.413760</td>\n",
       "    </tr>\n",
       "    <tr>\n",
       "      <th>total load actual</th>\n",
       "      <td>0.141721</td>\n",
       "      <td>0.288229</td>\n",
       "      <td>0.512968</td>\n",
       "      <td>0.368105</td>\n",
       "      <td>0.523693</td>\n",
       "      <td>-0.609581</td>\n",
       "      <td>0.154206</td>\n",
       "      <td>0.522876</td>\n",
       "      <td>0.118475</td>\n",
       "      <td>0.159723</td>\n",
       "      <td>0.212034</td>\n",
       "      <td>0.406927</td>\n",
       "      <td>0.067626</td>\n",
       "      <td>0.025929</td>\n",
       "      <td>0.418558</td>\n",
       "      <td>0.022378</td>\n",
       "      <td>0.994148</td>\n",
       "      <td>1.000000</td>\n",
       "      <td>0.465793</td>\n",
       "      <td>0.410439</td>\n",
       "    </tr>\n",
       "    <tr>\n",
       "      <th>price day ahead</th>\n",
       "      <td>0.432945</td>\n",
       "      <td>0.692398</td>\n",
       "      <td>0.691463</td>\n",
       "      <td>0.834051</td>\n",
       "      <td>0.505045</td>\n",
       "      <td>-0.624625</td>\n",
       "      <td>-0.469802</td>\n",
       "      <td>-0.072796</td>\n",
       "      <td>-0.061192</td>\n",
       "      <td>0.241046</td>\n",
       "      <td>0.161671</td>\n",
       "      <td>0.102779</td>\n",
       "      <td>0.284424</td>\n",
       "      <td>-0.510045</td>\n",
       "      <td>0.106647</td>\n",
       "      <td>-0.512500</td>\n",
       "      <td>0.467748</td>\n",
       "      <td>0.465793</td>\n",
       "      <td>1.000000</td>\n",
       "      <td>0.733410</td>\n",
       "    </tr>\n",
       "    <tr>\n",
       "      <th>price actual</th>\n",
       "      <td>0.459019</td>\n",
       "      <td>0.452190</td>\n",
       "      <td>0.455885</td>\n",
       "      <td>0.595878</td>\n",
       "      <td>0.478884</td>\n",
       "      <td>-0.428538</td>\n",
       "      <td>-0.269146</td>\n",
       "      <td>0.015521</td>\n",
       "      <td>-0.058056</td>\n",
       "      <td>0.295537</td>\n",
       "      <td>-0.100459</td>\n",
       "      <td>0.123990</td>\n",
       "      <td>0.025184</td>\n",
       "      <td>-0.245027</td>\n",
       "      <td>0.127138</td>\n",
       "      <td>-0.246847</td>\n",
       "      <td>0.413760</td>\n",
       "      <td>0.410439</td>\n",
       "      <td>0.733410</td>\n",
       "      <td>1.000000</td>\n",
       "    </tr>\n",
       "  </tbody>\n",
       "</table>\n",
       "</div>"
      ],
      "text/plain": [
       "                                             generation biomass  \\\n",
       "generation biomass                                     1.000000   \n",
       "generation fossil brown coal/lignite                   0.269333   \n",
       "generation fossil gas                                  0.084413   \n",
       "generation fossil hard coal                            0.493783   \n",
       "generation fossil oil                                  0.501004   \n",
       "generation hydro pumped storage consumption           -0.084706   \n",
       "generation hydro run-of-river and poundage            -0.333251   \n",
       "generation hydro water reservoir                      -0.162166   \n",
       "generation nuclear                                    -0.130755   \n",
       "generation other                                       0.689024   \n",
       "generation other renewable                            -0.404610   \n",
       "generation solar                                      -0.042877   \n",
       "generation waste                                      -0.125411   \n",
       "generation wind onshore                               -0.040659   \n",
       "forecast solar day ahead                              -0.045573   \n",
       "forecast wind onshore day ahead                       -0.042073   \n",
       "total load forecast                                    0.142781   \n",
       "total load actual                                      0.141721   \n",
       "price day ahead                                        0.432945   \n",
       "price actual                                           0.459019   \n",
       "\n",
       "                                             generation fossil brown coal/lignite  \\\n",
       "generation biomass                                                       0.269333   \n",
       "generation fossil brown coal/lignite                                     1.000000   \n",
       "generation fossil gas                                                    0.559411   \n",
       "generation fossil hard coal                                              0.836700   \n",
       "generation fossil oil                                                    0.362161   \n",
       "generation hydro pumped storage consumption                             -0.365730   \n",
       "generation hydro run-of-river and poundage                              -0.521200   \n",
       "generation hydro water reservoir                                        -0.219865   \n",
       "generation nuclear                                                      -0.073905   \n",
       "generation other                                                         0.176195   \n",
       "generation other renewable                                               0.144068   \n",
       "generation solar                                                         0.061419   \n",
       "generation waste                                                         0.421326   \n",
       "generation wind onshore                                                 -0.489034   \n",
       "forecast solar day ahead                                                 0.064092   \n",
       "forecast wind onshore day ahead                                         -0.489490   \n",
       "total load forecast                                                      0.286581   \n",
       "total load actual                                                        0.288229   \n",
       "price day ahead                                                          0.692398   \n",
       "price actual                                                             0.452190   \n",
       "\n",
       "                                             generation fossil gas  \\\n",
       "generation biomass                                        0.084413   \n",
       "generation fossil brown coal/lignite                      0.559411   \n",
       "generation fossil gas                                     1.000000   \n",
       "generation fossil hard coal                               0.591846   \n",
       "generation fossil oil                                     0.355537   \n",
       "generation hydro pumped storage consumption              -0.442106   \n",
       "generation hydro run-of-river and poundage               -0.286408   \n",
       "generation hydro water reservoir                          0.113439   \n",
       "generation nuclear                                       -0.018597   \n",
       "generation other                                          0.052323   \n",
       "generation other renewable                                0.338028   \n",
       "generation solar                                          0.054442   \n",
       "generation waste                                          0.330771   \n",
       "generation wind onshore                                  -0.469760   \n",
       "forecast solar day ahead                                  0.063064   \n",
       "forecast wind onshore day ahead                          -0.470954   \n",
       "total load forecast                                       0.508284   \n",
       "total load actual                                         0.512968   \n",
       "price day ahead                                           0.691463   \n",
       "price actual                                              0.455885   \n",
       "\n",
       "                                             generation fossil hard coal  \\\n",
       "generation biomass                                              0.493783   \n",
       "generation fossil brown coal/lignite                            0.836700   \n",
       "generation fossil gas                                           0.591846   \n",
       "generation fossil hard coal                                     1.000000   \n",
       "generation fossil oil                                           0.493768   \n",
       "generation hydro pumped storage consumption                    -0.455732   \n",
       "generation hydro run-of-river and poundage                     -0.571277   \n",
       "generation hydro water reservoir                               -0.240166   \n",
       "generation nuclear                                             -0.025695   \n",
       "generation other                                                0.332282   \n",
       "generation other renewable                                      0.050921   \n",
       "generation solar                                                0.072058   \n",
       "generation waste                                                0.368203   \n",
       "generation wind onshore                                        -0.525176   \n",
       "forecast solar day ahead                                        0.075260   \n",
       "forecast wind onshore day ahead                                -0.526793   \n",
       "total load forecast                                             0.366005   \n",
       "total load actual                                               0.368105   \n",
       "price day ahead                                                 0.834051   \n",
       "price actual                                                    0.595878   \n",
       "\n",
       "                                             generation fossil oil  \\\n",
       "generation biomass                                        0.501004   \n",
       "generation fossil brown coal/lignite                      0.362161   \n",
       "generation fossil gas                                     0.355537   \n",
       "generation fossil hard coal                               0.493768   \n",
       "generation fossil oil                                     1.000000   \n",
       "generation hydro pumped storage consumption              -0.369389   \n",
       "generation hydro run-of-river and poundage               -0.088599   \n",
       "generation hydro water reservoir                          0.138782   \n",
       "generation nuclear                                       -0.062979   \n",
       "generation other                                          0.411941   \n",
       "generation other renewable                               -0.042906   \n",
       "generation solar                                          0.085478   \n",
       "generation waste                                         -0.112008   \n",
       "generation wind onshore                                  -0.077952   \n",
       "forecast solar day ahead                                  0.086007   \n",
       "forecast wind onshore day ahead                          -0.080335   \n",
       "total load forecast                                       0.525350   \n",
       "total load actual                                         0.523693   \n",
       "price day ahead                                           0.505045   \n",
       "price actual                                              0.478884   \n",
       "\n",
       "                                             generation hydro pumped storage consumption  \\\n",
       "generation biomass                                                             -0.084706   \n",
       "generation fossil brown coal/lignite                                           -0.365730   \n",
       "generation fossil gas                                                          -0.442106   \n",
       "generation fossil hard coal                                                    -0.455732   \n",
       "generation fossil oil                                                          -0.369389   \n",
       "generation hydro pumped storage consumption                                     1.000000   \n",
       "generation hydro run-of-river and poundage                                      0.066210   \n",
       "generation hydro water reservoir                                               -0.259599   \n",
       "generation nuclear                                                             -0.040797   \n",
       "generation other                                                                0.023817   \n",
       "generation other renewable                                                     -0.310920   \n",
       "generation solar                                                               -0.249971   \n",
       "generation waste                                                               -0.250089   \n",
       "generation wind onshore                                                         0.381634   \n",
       "forecast solar day ahead                                                       -0.258057   \n",
       "forecast wind onshore day ahead                                                 0.383353   \n",
       "total load forecast                                                            -0.606973   \n",
       "total load actual                                                              -0.609581   \n",
       "price day ahead                                                                -0.624625   \n",
       "price actual                                                                   -0.428538   \n",
       "\n",
       "                                             generation hydro run-of-river and poundage  \\\n",
       "generation biomass                                                            -0.333251   \n",
       "generation fossil brown coal/lignite                                          -0.521200   \n",
       "generation fossil gas                                                         -0.286408   \n",
       "generation fossil hard coal                                                   -0.571277   \n",
       "generation fossil oil                                                         -0.088599   \n",
       "generation hydro pumped storage consumption                                    0.066210   \n",
       "generation hydro run-of-river and poundage                                     1.000000   \n",
       "generation hydro water reservoir                                               0.717449   \n",
       "generation nuclear                                                             0.074064   \n",
       "generation other                                                              -0.219436   \n",
       "generation other renewable                                                    -0.081765   \n",
       "generation solar                                                               0.056022   \n",
       "generation waste                                                              -0.514166   \n",
       "generation wind onshore                                                        0.253256   \n",
       "forecast solar day ahead                                                       0.056815   \n",
       "forecast wind onshore day ahead                                                0.253877   \n",
       "total load forecast                                                            0.155904   \n",
       "total load actual                                                              0.154206   \n",
       "price day ahead                                                               -0.469802   \n",
       "price actual                                                                  -0.269146   \n",
       "\n",
       "                                             generation hydro water reservoir  \\\n",
       "generation biomass                                                  -0.162166   \n",
       "generation fossil brown coal/lignite                                -0.219865   \n",
       "generation fossil gas                                                0.113439   \n",
       "generation fossil hard coal                                         -0.240166   \n",
       "generation fossil oil                                                0.138782   \n",
       "generation hydro pumped storage consumption                         -0.259599   \n",
       "generation hydro run-of-river and poundage                           0.717449   \n",
       "generation hydro water reservoir                                     1.000000   \n",
       "generation nuclear                                                   0.005094   \n",
       "generation other                                                    -0.060626   \n",
       "generation other renewable                                           0.067184   \n",
       "generation solar                                                     0.102247   \n",
       "generation waste                                                    -0.297514   \n",
       "generation wind onshore                                             -0.006301   \n",
       "forecast solar day ahead                                             0.113850   \n",
       "forecast wind onshore day ahead                                     -0.004920   \n",
       "total load forecast                                                  0.519291   \n",
       "total load actual                                                    0.522876   \n",
       "price day ahead                                                     -0.072796   \n",
       "price actual                                                         0.015521   \n",
       "\n",
       "                                             generation nuclear  \\\n",
       "generation biomass                                    -0.130755   \n",
       "generation fossil brown coal/lignite                  -0.073905   \n",
       "generation fossil gas                                 -0.018597   \n",
       "generation fossil hard coal                           -0.025695   \n",
       "generation fossil oil                                 -0.062979   \n",
       "generation hydro pumped storage consumption           -0.040797   \n",
       "generation hydro run-of-river and poundage             0.074064   \n",
       "generation hydro water reservoir                       0.005094   \n",
       "generation nuclear                                     1.000000   \n",
       "generation other                                      -0.050943   \n",
       "generation other renewable                             0.035584   \n",
       "generation solar                                       0.026608   \n",
       "generation waste                                       0.064792   \n",
       "generation wind onshore                               -0.025912   \n",
       "forecast solar day ahead                               0.026529   \n",
       "forecast wind onshore day ahead                       -0.026790   \n",
       "total load forecast                                    0.125810   \n",
       "total load actual                                      0.118475   \n",
       "price day ahead                                       -0.061192   \n",
       "price actual                                          -0.058056   \n",
       "\n",
       "                                             generation other  \\\n",
       "generation biomass                                   0.689024   \n",
       "generation fossil brown coal/lignite                 0.176195   \n",
       "generation fossil gas                                0.052323   \n",
       "generation fossil hard coal                          0.332282   \n",
       "generation fossil oil                                0.411941   \n",
       "generation hydro pumped storage consumption          0.023817   \n",
       "generation hydro run-of-river and poundage          -0.219436   \n",
       "generation hydro water reservoir                    -0.060626   \n",
       "generation nuclear                                  -0.050943   \n",
       "generation other                                     1.000000   \n",
       "generation other renewable                          -0.365915   \n",
       "generation solar                                    -0.046674   \n",
       "generation waste                                    -0.141582   \n",
       "generation wind onshore                              0.081776   \n",
       "forecast solar day ahead                            -0.047682   \n",
       "forecast wind onshore day ahead                      0.081673   \n",
       "total load forecast                                  0.159563   \n",
       "total load actual                                    0.159723   \n",
       "price day ahead                                      0.241046   \n",
       "price actual                                         0.295537   \n",
       "\n",
       "                                             generation other renewable  \\\n",
       "generation biomass                                            -0.404610   \n",
       "generation fossil brown coal/lignite                           0.144068   \n",
       "generation fossil gas                                          0.338028   \n",
       "generation fossil hard coal                                    0.050921   \n",
       "generation fossil oil                                         -0.042906   \n",
       "generation hydro pumped storage consumption                   -0.310920   \n",
       "generation hydro run-of-river and poundage                    -0.081765   \n",
       "generation hydro water reservoir                               0.067184   \n",
       "generation nuclear                                             0.035584   \n",
       "generation other                                              -0.365915   \n",
       "generation other renewable                                     1.000000   \n",
       "generation solar                                               0.044436   \n",
       "generation waste                                               0.469816   \n",
       "generation wind onshore                                       -0.230607   \n",
       "forecast solar day ahead                                       0.043624   \n",
       "forecast wind onshore day ahead                               -0.233067   \n",
       "total load forecast                                            0.208601   \n",
       "total load actual                                              0.212034   \n",
       "price day ahead                                                0.161671   \n",
       "price actual                                                  -0.100459   \n",
       "\n",
       "                                             generation solar  \\\n",
       "generation biomass                                  -0.042877   \n",
       "generation fossil brown coal/lignite                 0.061419   \n",
       "generation fossil gas                                0.054442   \n",
       "generation fossil hard coal                          0.072058   \n",
       "generation fossil oil                                0.085478   \n",
       "generation hydro pumped storage consumption         -0.249971   \n",
       "generation hydro run-of-river and poundage           0.056022   \n",
       "generation hydro water reservoir                     0.102247   \n",
       "generation nuclear                                   0.026608   \n",
       "generation other                                    -0.046674   \n",
       "generation other renewable                           0.044436   \n",
       "generation solar                                     1.000000   \n",
       "generation waste                                     0.055234   \n",
       "generation wind onshore                             -0.142608   \n",
       "forecast solar day ahead                             0.993291   \n",
       "forecast wind onshore day ahead                     -0.147607   \n",
       "total load forecast                                  0.411287   \n",
       "total load actual                                    0.406927   \n",
       "price day ahead                                      0.102779   \n",
       "price actual                                         0.123990   \n",
       "\n",
       "                                             generation waste  \\\n",
       "generation biomass                                  -0.125411   \n",
       "generation fossil brown coal/lignite                 0.421326   \n",
       "generation fossil gas                                0.330771   \n",
       "generation fossil hard coal                          0.368203   \n",
       "generation fossil oil                               -0.112008   \n",
       "generation hydro pumped storage consumption         -0.250089   \n",
       "generation hydro run-of-river and poundage          -0.514166   \n",
       "generation hydro water reservoir                    -0.297514   \n",
       "generation nuclear                                   0.064792   \n",
       "generation other                                    -0.141582   \n",
       "generation other renewable                           0.469816   \n",
       "generation solar                                     0.055234   \n",
       "generation waste                                     1.000000   \n",
       "generation wind onshore                             -0.349830   \n",
       "forecast solar day ahead                             0.054675   \n",
       "forecast wind onshore day ahead                     -0.351047   \n",
       "total load forecast                                  0.065853   \n",
       "total load actual                                    0.067626   \n",
       "price day ahead                                      0.284424   \n",
       "price actual                                         0.025184   \n",
       "\n",
       "                                             generation wind onshore  \\\n",
       "generation biomass                                         -0.040659   \n",
       "generation fossil brown coal/lignite                       -0.489034   \n",
       "generation fossil gas                                      -0.469760   \n",
       "generation fossil hard coal                                -0.525176   \n",
       "generation fossil oil                                      -0.077952   \n",
       "generation hydro pumped storage consumption                 0.381634   \n",
       "generation hydro run-of-river and poundage                  0.253256   \n",
       "generation hydro water reservoir                           -0.006301   \n",
       "generation nuclear                                         -0.025912   \n",
       "generation other                                            0.081776   \n",
       "generation other renewable                                 -0.230607   \n",
       "generation solar                                           -0.142608   \n",
       "generation waste                                           -0.349830   \n",
       "generation wind onshore                                     1.000000   \n",
       "forecast solar day ahead                                   -0.144895   \n",
       "forecast wind onshore day ahead                             0.998910   \n",
       "total load forecast                                         0.023194   \n",
       "total load actual                                           0.025929   \n",
       "price day ahead                                            -0.510045   \n",
       "price actual                                               -0.245027   \n",
       "\n",
       "                                             forecast solar day ahead  \\\n",
       "generation biomass                                          -0.045573   \n",
       "generation fossil brown coal/lignite                         0.064092   \n",
       "generation fossil gas                                        0.063064   \n",
       "generation fossil hard coal                                  0.075260   \n",
       "generation fossil oil                                        0.086007   \n",
       "generation hydro pumped storage consumption                 -0.258057   \n",
       "generation hydro run-of-river and poundage                   0.056815   \n",
       "generation hydro water reservoir                             0.113850   \n",
       "generation nuclear                                           0.026529   \n",
       "generation other                                            -0.047682   \n",
       "generation other renewable                                   0.043624   \n",
       "generation solar                                             0.993291   \n",
       "generation waste                                             0.054675   \n",
       "generation wind onshore                                     -0.144895   \n",
       "forecast solar day ahead                                     1.000000   \n",
       "forecast wind onshore day ahead                             -0.149859   \n",
       "total load forecast                                          0.422104   \n",
       "total load actual                                            0.418558   \n",
       "price day ahead                                              0.106647   \n",
       "price actual                                                 0.127138   \n",
       "\n",
       "                                             forecast wind onshore day ahead  \\\n",
       "generation biomass                                                 -0.042073   \n",
       "generation fossil brown coal/lignite                               -0.489490   \n",
       "generation fossil gas                                              -0.470954   \n",
       "generation fossil hard coal                                        -0.526793   \n",
       "generation fossil oil                                              -0.080335   \n",
       "generation hydro pumped storage consumption                         0.383353   \n",
       "generation hydro run-of-river and poundage                          0.253877   \n",
       "generation hydro water reservoir                                   -0.004920   \n",
       "generation nuclear                                                 -0.026790   \n",
       "generation other                                                    0.081673   \n",
       "generation other renewable                                         -0.233067   \n",
       "generation solar                                                   -0.147607   \n",
       "generation waste                                                   -0.351047   \n",
       "generation wind onshore                                             0.998910   \n",
       "forecast solar day ahead                                           -0.149859   \n",
       "forecast wind onshore day ahead                                     1.000000   \n",
       "total load forecast                                                 0.020152   \n",
       "total load actual                                                   0.022378   \n",
       "price day ahead                                                    -0.512500   \n",
       "price actual                                                       -0.246847   \n",
       "\n",
       "                                             total load forecast  \\\n",
       "generation biomass                                      0.142781   \n",
       "generation fossil brown coal/lignite                    0.286581   \n",
       "generation fossil gas                                   0.508284   \n",
       "generation fossil hard coal                             0.366005   \n",
       "generation fossil oil                                   0.525350   \n",
       "generation hydro pumped storage consumption            -0.606973   \n",
       "generation hydro run-of-river and poundage              0.155904   \n",
       "generation hydro water reservoir                        0.519291   \n",
       "generation nuclear                                      0.125810   \n",
       "generation other                                        0.159563   \n",
       "generation other renewable                              0.208601   \n",
       "generation solar                                        0.411287   \n",
       "generation waste                                        0.065853   \n",
       "generation wind onshore                                 0.023194   \n",
       "forecast solar day ahead                                0.422104   \n",
       "forecast wind onshore day ahead                         0.020152   \n",
       "total load forecast                                     1.000000   \n",
       "total load actual                                       0.994148   \n",
       "price day ahead                                         0.467748   \n",
       "price actual                                            0.413760   \n",
       "\n",
       "                                             total load actual  \\\n",
       "generation biomass                                    0.141721   \n",
       "generation fossil brown coal/lignite                  0.288229   \n",
       "generation fossil gas                                 0.512968   \n",
       "generation fossil hard coal                           0.368105   \n",
       "generation fossil oil                                 0.523693   \n",
       "generation hydro pumped storage consumption          -0.609581   \n",
       "generation hydro run-of-river and poundage            0.154206   \n",
       "generation hydro water reservoir                      0.522876   \n",
       "generation nuclear                                    0.118475   \n",
       "generation other                                      0.159723   \n",
       "generation other renewable                            0.212034   \n",
       "generation solar                                      0.406927   \n",
       "generation waste                                      0.067626   \n",
       "generation wind onshore                               0.025929   \n",
       "forecast solar day ahead                              0.418558   \n",
       "forecast wind onshore day ahead                       0.022378   \n",
       "total load forecast                                   0.994148   \n",
       "total load actual                                     1.000000   \n",
       "price day ahead                                       0.465793   \n",
       "price actual                                          0.410439   \n",
       "\n",
       "                                             price day ahead  price actual  \n",
       "generation biomass                                  0.432945      0.459019  \n",
       "generation fossil brown coal/lignite                0.692398      0.452190  \n",
       "generation fossil gas                               0.691463      0.455885  \n",
       "generation fossil hard coal                         0.834051      0.595878  \n",
       "generation fossil oil                               0.505045      0.478884  \n",
       "generation hydro pumped storage consumption        -0.624625     -0.428538  \n",
       "generation hydro run-of-river and poundage         -0.469802     -0.269146  \n",
       "generation hydro water reservoir                   -0.072796      0.015521  \n",
       "generation nuclear                                 -0.061192     -0.058056  \n",
       "generation other                                    0.241046      0.295537  \n",
       "generation other renewable                          0.161671     -0.100459  \n",
       "generation solar                                    0.102779      0.123990  \n",
       "generation waste                                    0.284424      0.025184  \n",
       "generation wind onshore                            -0.510045     -0.245027  \n",
       "forecast solar day ahead                            0.106647      0.127138  \n",
       "forecast wind onshore day ahead                    -0.512500     -0.246847  \n",
       "total load forecast                                 0.467748      0.413760  \n",
       "total load actual                                   0.465793      0.410439  \n",
       "price day ahead                                     1.000000      0.733410  \n",
       "price actual                                        0.733410      1.000000  "
      ]
     },
     "execution_count": 16,
     "metadata": {},
     "output_type": "execute_result"
    }
   ],
   "source": [
    "df.corr()"
   ]
  },
  {
   "cell_type": "markdown",
   "metadata": {},
   "source": [
    "### plotting heatmap to find relation between independent variable"
   ]
  },
  {
   "cell_type": "code",
   "execution_count": 17,
   "metadata": {
    "scrolled": true
   },
   "outputs": [
    {
     "data": {
      "text/plain": [
       "<AxesSubplot:>"
      ]
     },
     "execution_count": 17,
     "metadata": {},
     "output_type": "execute_result"
    },
    {
     "data": {
      "image/png": "[encoded data removed]",
      "text/plain": [
       "<Figure size 864x720 with 2 Axes>"
      ]
     },
     "metadata": {
      "needs_background": "light"
     },
     "output_type": "display_data"
    }
   ],
   "source": [
    "df_corr = df.corr()[df.corr()>=0.75]\n",
    "df_corr\n",
    "plt.figure(figsize = (12,10))\n",
    "sns.heatmap(df_corr,annot=True)"
   ]
  },
  {
   "cell_type": "markdown",
   "metadata": {},
   "source": [
    "### Dropping columns with high coefficient of relation to remove multicollinearty\n"
   ]
  },
  {
   "cell_type": "code",
   "execution_count": 18,
   "metadata": {},
   "outputs": [],
   "source": [
    "# Dropping columns with high coefficient of relation to remove multicollinearty\n",
    "df = df.drop([\"generation fossil hard coal\",\n",
    "             \"forecast solar day ahead\",\n",
    "             \"forecast wind onshore day ahead\",\n",
    "             \"total load forecast\"], axis = 1)"
   ]
  },
  {
   "cell_type": "code",
   "execution_count": null,
   "metadata": {},
   "outputs": [],
   "source": []
  },
  {
   "cell_type": "code",
   "execution_count": null,
   "metadata": {},
   "outputs": [],
   "source": []
  },
  {
   "cell_type": "code",
   "execution_count": 19,
   "metadata": {},
   "outputs": [],
   "source": [
    "correlations = df.corr(method = 'pearson')"
   ]
  },
  {
   "cell_type": "markdown",
   "metadata": {},
   "source": [
    "### checking correlation with dependent variable"
   ]
  },
  {
   "cell_type": "code",
   "execution_count": 20,
   "metadata": {},
   "outputs": [
    {
     "name": "stdout",
     "output_type": "stream",
     "text": [
      "price actual                                   1.000000\n",
      "price day ahead                                0.733410\n",
      "generation fossil oil                          0.478884\n",
      "generation biomass                             0.459019\n",
      "generation fossil gas                          0.455885\n",
      "generation fossil brown coal/lignite           0.452190\n",
      "total load actual                              0.410439\n",
      "generation other                               0.295537\n",
      "generation solar                               0.123990\n",
      "generation waste                               0.025184\n",
      "generation hydro water reservoir               0.015521\n",
      "generation nuclear                            -0.058056\n",
      "generation other renewable                    -0.100459\n",
      "generation wind onshore                       -0.245027\n",
      "generation hydro run-of-river and poundage    -0.269146\n",
      "generation hydro pumped storage consumption   -0.428538\n"
     ]
    }
   ],
   "source": [
    "print(correlations['price actual'].sort_values(ascending = False).to_string())"
   ]
  },
  {
   "cell_type": "code",
   "execution_count": 21,
   "metadata": {},
   "outputs": [
    {
     "data": {
      "image/png": "[encoded data removed]",
      "text/plain": [
       "<Figure size 1080x864 with 2 Axes>"
      ]
     },
     "metadata": {
      "needs_background": "light"
     },
     "output_type": "display_data"
    }
   ],
   "source": [
    "plt.figure(figsize=(15,12))\n",
    "sns.heatmap(round(df.corr(),1),annot=True,\n",
    "           cmap = 'Blues', linewidth = 0.9)\n",
    "plt.show()"
   ]
  },
  {
   "cell_type": "code",
   "execution_count": 22,
   "metadata": {},
   "outputs": [
    {
     "data": {
      "text/plain": [
       "<AxesSubplot:>"
      ]
     },
     "execution_count": 22,
     "metadata": {},
     "output_type": "execute_result"
    },
    {
     "data": {
      "image/png": "[encoded data removed]",
      "text/plain": [
       "<Figure size 864x720 with 2 Axes>"
      ]
     },
     "metadata": {
      "needs_background": "light"
     },
     "output_type": "display_data"
    }
   ],
   "source": [
    "df_corr = df.corr()[df.corr()>=0.75]\n",
    "df_corr\n",
    "plt.figure(figsize = (12,10))\n",
    "sns.heatmap(df_corr,annot=True)"
   ]
  },
  {
   "cell_type": "code",
   "execution_count": 23,
   "metadata": {
    "scrolled": true
   },
   "outputs": [
    {
     "data": {
      "image/png": "[encoded data removed]",
      "text/plain": [
       "<Figure size 1080x720 with 1 Axes>"
      ]
     },
     "metadata": {
      "needs_background": "light"
     },
     "output_type": "display_data"
    }
   ],
   "source": [
    "plt.figure(figsize=(15,10))\n",
    "sns.histplot(df,x='price actual')\n",
    "plt.show()"
   ]
  },
  {
   "cell_type": "markdown",
   "metadata": {},
   "source": [
    "### scatterplot 'total load actual' vs 'price actual'"
   ]
  },
  {
   "cell_type": "code",
   "execution_count": 24,
   "metadata": {},
   "outputs": [
    {
     "data": {
      "text/plain": [
       "<AxesSubplot:xlabel='total load actual', ylabel='price actual'>"
      ]
     },
     "execution_count": 24,
     "metadata": {},
     "output_type": "execute_result"
    },
    {
     "data": {
      "image/png": "[encoded data removed]",
      "text/plain": [
       "<Figure size 432x288 with 1 Axes>"
      ]
     },
     "metadata": {
      "needs_background": "light"
     },
     "output_type": "display_data"
    }
   ],
   "source": [
    "sns.scatterplot(x='total load actual', y = 'price actual', data = df)"
   ]
  },
  {
   "cell_type": "code",
   "execution_count": null,
   "metadata": {},
   "outputs": [],
   "source": []
  },
  {
   "cell_type": "markdown",
   "metadata": {},
   "source": [
    "## Splitting the data"
   ]
  },
  {
   "cell_type": "code",
   "execution_count": 25,
   "metadata": {},
   "outputs": [],
   "source": [
    "x = df.iloc[:,:-1].values\n",
    "y = df.iloc[:, -1].values"
   ]
  },
  {
   "cell_type": "code",
   "execution_count": null,
   "metadata": {},
   "outputs": [],
   "source": []
  },
  {
   "cell_type": "code",
   "execution_count": 26,
   "metadata": {},
   "outputs": [],
   "source": [
    "from sklearn.model_selection import train_test_split"
   ]
  },
  {
   "cell_type": "code",
   "execution_count": 27,
   "metadata": {},
   "outputs": [],
   "source": [
    "x_train,x_test,y_train,y_test=train_test_split(x,y,test_size=0.2,random_state=3)"
   ]
  },
  {
   "cell_type": "code",
   "execution_count": null,
   "metadata": {},
   "outputs": [],
   "source": []
  },
  {
   "cell_type": "markdown",
   "metadata": {},
   "source": [
    "## Scaling the data"
   ]
  },
  {
   "cell_type": "code",
   "execution_count": 28,
   "metadata": {},
   "outputs": [],
   "source": [
    "from sklearn.preprocessing import StandardScaler\n",
    "from sklearn.preprocessing import MinMaxScaler\n",
    "# sc = StandardScaler()\n",
    "sc = MinMaxScaler()\n",
    "x_train = sc.fit_transform(x_train)\n",
    "x_test = sc.transform(x_test)"
   ]
  },
  {
   "cell_type": "code",
   "execution_count": null,
   "metadata": {},
   "outputs": [],
   "source": []
  },
  {
   "cell_type": "code",
   "execution_count": null,
   "metadata": {},
   "outputs": [],
   "source": []
  },
  {
   "cell_type": "code",
   "execution_count": null,
   "metadata": {},
   "outputs": [],
   "source": []
  },
  {
   "cell_type": "code",
   "execution_count": null,
   "metadata": {},
   "outputs": [],
   "source": []
  },
  {
   "cell_type": "markdown",
   "metadata": {},
   "source": [
    "## Fitting model"
   ]
  },
  {
   "cell_type": "code",
   "execution_count": 29,
   "metadata": {},
   "outputs": [],
   "source": [
    "from sklearn.linear_model import Ridge, LinearRegression"
   ]
  },
  {
   "cell_type": "markdown",
   "metadata": {},
   "source": [
    "### Linear regression"
   ]
  },
  {
   "cell_type": "code",
   "execution_count": null,
   "metadata": {},
   "outputs": [],
   "source": []
  },
  {
   "cell_type": "code",
   "execution_count": 30,
   "metadata": {},
   "outputs": [
    {
     "data": {
      "text/plain": [
       "LinearRegression()"
      ]
     },
     "execution_count": 30,
     "metadata": {},
     "output_type": "execute_result"
    }
   ],
   "source": [
    "regressor1 = LinearRegression()\n",
    "regressor1.fit(x_train, y_train)"
   ]
  },
  {
   "cell_type": "code",
   "execution_count": 31,
   "metadata": {},
   "outputs": [],
   "source": [
    "y_pred = regressor1.predict(x_test)"
   ]
  },
  {
   "cell_type": "code",
   "execution_count": 32,
   "metadata": {
    "scrolled": true
   },
   "outputs": [
    {
     "name": "stdout",
     "output_type": "stream",
     "text": [
      "Training Accuracy : 0.6219832675245587\n",
      "Test Accuracy : 0.6028319578235033\n"
     ]
    }
   ],
   "source": [
    "print('Training Accuracy :', regressor1.score(x_train, y_train))\n",
    "print('Test Accuracy :', regressor1.score(x_test, y_test))"
   ]
  },
  {
   "cell_type": "markdown",
   "metadata": {},
   "source": [
    "### Accuracy score of the linear regression model for training set came 62.198% while, for test set it was 60.283%"
   ]
  },
  {
   "cell_type": "code",
   "execution_count": 33,
   "metadata": {},
   "outputs": [
    {
     "data": {
      "text/plain": [
       "0.6028319578235033"
      ]
     },
     "execution_count": 33,
     "metadata": {},
     "output_type": "execute_result"
    }
   ],
   "source": [
    "from sklearn.metrics import r2_score\n",
    "r2_score(y_test, y_pred)"
   ]
  },
  {
   "cell_type": "code",
   "execution_count": 34,
   "metadata": {},
   "outputs": [],
   "source": [
    "import statsmodels.api as sm\n",
    "x = sm.add_constant(x)"
   ]
  },
  {
   "cell_type": "markdown",
   "metadata": {},
   "source": [
    "### summary of the model "
   ]
  },
  {
   "cell_type": "code",
   "execution_count": 35,
   "metadata": {
    "scrolled": true
   },
   "outputs": [],
   "source": [
    "result = sm.OLS(y, x).fit()\n",
    "# result.summary()"
   ]
  },
  {
   "cell_type": "raw",
   "metadata": {},
   "source": [
    "lin_reg = sm.OLS(y_train,sm.add_constant(x_train)).fit()\n",
    "print(lin_reg.summary())"
   ]
  },
  {
   "cell_type": "code",
   "execution_count": 37,
   "metadata": {},
   "outputs": [],
   "source": [
    "y_train_pred = regressor1.predict(x_train)"
   ]
  },
  {
   "cell_type": "code",
   "execution_count": 38,
   "metadata": {},
   "outputs": [],
   "source": [
    "# from sklearn.metrics import mean_absolute_percentage_error\n",
    "from sklearn.model_selection import cross_val_score"
   ]
  },
  {
   "cell_type": "code",
   "execution_count": 39,
   "metadata": {},
   "outputs": [],
   "source": [
    "#Defining MAPE function\n",
    "def MAPE(Y_actual,Y_Predicted):\n",
    "    mape = np.mean(np.abs((Y_actual - Y_Predicted)/Y_actual))*100\n",
    "    return mape"
   ]
  },
  {
   "cell_type": "code",
   "execution_count": null,
   "metadata": {},
   "outputs": [],
   "source": []
  },
  {
   "cell_type": "code",
   "execution_count": 40,
   "metadata": {},
   "outputs": [],
   "source": [
    "def performance(x_train,x_test,y_train,y_test):\n",
    "    lin_reg = sm.OLS(y_train,sm.add_constant(x_train)).fit()\n",
    "    y_train_pred = lin_reg.predict(sm.add_constant(x_train))\n",
    "    y_test_pred = lin_reg.predict(sm.add_constant(x_test))\n",
    "    print('r2 train:',r2_score(y_train,y_train_pred))\n",
    "    print('r2 rest:',r2_score(y_test,y_test_pred))\n",
    "    print('train MAPE:', MAPE(y_train,y_train_pred))\n",
    "    print('test MAPE:', MAPE(y_test,y_test_pred))\n",
    "    "
   ]
  },
  {
   "cell_type": "markdown",
   "metadata": {},
   "source": [
    "### different metrics are deployed in order to analyze the model performance"
   ]
  },
  {
   "cell_type": "code",
   "execution_count": 41,
   "metadata": {
    "scrolled": true
   },
   "outputs": [
    {
     "name": "stdout",
     "output_type": "stream",
     "text": [
      "r2 train: 0.6219832675245587\n",
      "r2 rest: 0.6028319578235034\n",
      "train MAPE: 15.053010668103978\n",
      "test MAPE: 14.683174259500909\n"
     ]
    }
   ],
   "source": [
    "performance(x_train,x_test,y_train,y_test)"
   ]
  },
  {
   "cell_type": "code",
   "execution_count": null,
   "metadata": {},
   "outputs": [],
   "source": []
  },
  {
   "cell_type": "markdown",
   "metadata": {},
   "source": [
    "### Decision Tree"
   ]
  },
  {
   "cell_type": "code",
   "execution_count": 42,
   "metadata": {},
   "outputs": [
    {
     "data": {
      "text/plain": [
       "DecisionTreeRegressor()"
      ]
     },
     "execution_count": 42,
     "metadata": {},
     "output_type": "execute_result"
    }
   ],
   "source": [
    "from sklearn import tree\n",
    "regressor4 = tree.DecisionTreeRegressor()\n",
    "regressor4.fit(x_train, y_train)\n"
   ]
  },
  {
   "cell_type": "code",
   "execution_count": 43,
   "metadata": {},
   "outputs": [],
   "source": [
    "y_pred4 = regressor4.predict(x_test)"
   ]
  },
  {
   "cell_type": "code",
   "execution_count": 44,
   "metadata": {},
   "outputs": [
    {
     "name": "stdout",
     "output_type": "stream",
     "text": [
      "Training Accuracy : 1.0\n",
      "Test Accuracy : 0.7099626797411538\n"
     ]
    }
   ],
   "source": [
    "print('Training Accuracy :', regressor4.score(x_train, y_train))\n",
    "print('Test Accuracy :', regressor4.score(x_test, y_test))"
   ]
  },
  {
   "cell_type": "code",
   "execution_count": 45,
   "metadata": {},
   "outputs": [
    {
     "data": {
      "text/plain": [
       "0.7099626797411538"
      ]
     },
     "execution_count": 45,
     "metadata": {},
     "output_type": "execute_result"
    }
   ],
   "source": [
    "r2_score(y_test, y_pred4)"
   ]
  },
  {
   "cell_type": "code",
   "execution_count": null,
   "metadata": {},
   "outputs": [],
   "source": []
  },
  {
   "cell_type": "markdown",
   "metadata": {},
   "source": [
    "### Random Forest Regressor"
   ]
  },
  {
   "cell_type": "code",
   "execution_count": 46,
   "metadata": {},
   "outputs": [
    {
     "data": {
      "text/plain": [
       "RandomForestRegressor()"
      ]
     },
     "execution_count": 46,
     "metadata": {},
     "output_type": "execute_result"
    }
   ],
   "source": [
    "from sklearn.ensemble import RandomForestRegressor\n",
    "regressor2 = RandomForestRegressor()\n",
    "regressor2.fit(x_train,y_train)"
   ]
  },
  {
   "cell_type": "code",
   "execution_count": null,
   "metadata": {},
   "outputs": [],
   "source": []
  },
  {
   "cell_type": "code",
   "execution_count": 47,
   "metadata": {},
   "outputs": [],
   "source": [
    "y_pred2 = regressor2.predict(x_test)"
   ]
  },
  {
   "cell_type": "code",
   "execution_count": 48,
   "metadata": {},
   "outputs": [
    {
     "name": "stdout",
     "output_type": "stream",
     "text": [
      "Training Accuracy : 0.9816617995132234\n",
      "Test Accuracy : 0.8680876796453147\n"
     ]
    }
   ],
   "source": [
    "print('Training Accuracy :', regressor2.score(x_train, y_train))\n",
    "print('Test Accuracy :', regressor2.score(x_test, y_test))"
   ]
  },
  {
   "cell_type": "code",
   "execution_count": 49,
   "metadata": {},
   "outputs": [
    {
     "data": {
      "text/plain": [
       "0.8680876796453147"
      ]
     },
     "execution_count": 49,
     "metadata": {},
     "output_type": "execute_result"
    }
   ],
   "source": [
    "r2_score(y_test, y_pred2)"
   ]
  },
  {
   "cell_type": "code",
   "execution_count": null,
   "metadata": {},
   "outputs": [],
   "source": []
  },
  {
   "cell_type": "code",
   "execution_count": null,
   "metadata": {},
   "outputs": [],
   "source": []
  },
  {
   "cell_type": "markdown",
   "metadata": {},
   "source": [
    "### KNN\n"
   ]
  },
  {
   "cell_type": "code",
   "execution_count": 50,
   "metadata": {},
   "outputs": [
    {
     "data": {
      "text/plain": [
       "KNeighborsRegressor()"
      ]
     },
     "execution_count": 50,
     "metadata": {},
     "output_type": "execute_result"
    }
   ],
   "source": [
    "from sklearn.neighbors import KNeighborsRegressor\n",
    "regressor3 = KNeighborsRegressor(n_neighbors = 5, metric = 'minkowski', p = 2)\n",
    "regressor3.fit(x_train, y_train)"
   ]
  },
  {
   "cell_type": "code",
   "execution_count": 51,
   "metadata": {},
   "outputs": [],
   "source": [
    "y_pred3 = regressor3.predict(x_test)"
   ]
  },
  {
   "cell_type": "code",
   "execution_count": 52,
   "metadata": {},
   "outputs": [
    {
     "name": "stdout",
     "output_type": "stream",
     "text": [
      "Training Accuracy : 0.9195318108562797\n",
      "Test Accuracy : 0.8638722910388333\n"
     ]
    }
   ],
   "source": [
    "print('Training Accuracy :', regressor3.score(x_train, y_train))\n",
    "print('Test Accuracy :', regressor3.score(x_test, y_test))"
   ]
  },
  {
   "cell_type": "code",
   "execution_count": 53,
   "metadata": {},
   "outputs": [
    {
     "data": {
      "text/plain": [
       "0.8638722910388333"
      ]
     },
     "execution_count": 53,
     "metadata": {},
     "output_type": "execute_result"
    }
   ],
   "source": [
    "r2_score(y_test, y_pred3)"
   ]
  },
  {
   "cell_type": "code",
   "execution_count": null,
   "metadata": {},
   "outputs": [],
   "source": []
  },
  {
   "cell_type": "markdown",
   "metadata": {},
   "source": [
    "### SVM"
   ]
  },
  {
   "cell_type": "code",
   "execution_count": 54,
   "metadata": {},
   "outputs": [
    {
     "data": {
      "text/plain": [
       "SVR()"
      ]
     },
     "execution_count": 54,
     "metadata": {},
     "output_type": "execute_result"
    }
   ],
   "source": [
    "from sklearn import svm\n",
    "regressor5 = svm.SVR()\n",
    "regressor5.fit(x_train, y_train)"
   ]
  },
  {
   "cell_type": "code",
   "execution_count": 55,
   "metadata": {},
   "outputs": [],
   "source": [
    "y_pred5 = regressor5.predict(x_test)"
   ]
  },
  {
   "cell_type": "code",
   "execution_count": 56,
   "metadata": {},
   "outputs": [
    {
     "name": "stdout",
     "output_type": "stream",
     "text": [
      "Training Accuracy : 0.6412046234054531\n",
      "Test Accuracy : 0.6194324078552728\n"
     ]
    }
   ],
   "source": [
    "print('Training Accuracy :', regressor5.score(x_train, y_train))\n",
    "print('Test Accuracy :', regressor5.score(x_test, y_test))"
   ]
  },
  {
   "cell_type": "code",
   "execution_count": 57,
   "metadata": {},
   "outputs": [
    {
     "data": {
      "text/plain": [
       "0.6194324078552728"
      ]
     },
     "execution_count": 57,
     "metadata": {},
     "output_type": "execute_result"
    }
   ],
   "source": [
    "r2_score(y_test, y_pred5)"
   ]
  },
  {
   "cell_type": "code",
   "execution_count": null,
   "metadata": {},
   "outputs": [],
   "source": []
  },
  {
   "cell_type": "code",
   "execution_count": null,
   "metadata": {},
   "outputs": [],
   "source": []
  },
  {
   "cell_type": "markdown",
   "metadata": {},
   "source": [
    "### Artificial Neural Network"
   ]
  },
  {
   "cell_type": "code",
   "execution_count": 58,
   "metadata": {},
   "outputs": [
    {
     "data": {
      "text/plain": [
       "MLPRegressor(max_iter=500, random_state=1)"
      ]
     },
     "execution_count": 58,
     "metadata": {},
     "output_type": "execute_result"
    }
   ],
   "source": [
    "from sklearn.neural_network import MLPRegressor\n",
    "regressor6 = MLPRegressor(random_state=1, max_iter=500)\n",
    "regressor6.fit(x_train, y_train)"
   ]
  },
  {
   "cell_type": "code",
   "execution_count": 59,
   "metadata": {},
   "outputs": [],
   "source": [
    "y_pred6 = regressor6.predict(x_test)\n"
   ]
  },
  {
   "cell_type": "code",
   "execution_count": 60,
   "metadata": {},
   "outputs": [
    {
     "name": "stdout",
     "output_type": "stream",
     "text": [
      "Training Accuracy : 0.6954259580126969\n",
      "Test Accuracy : 0.6749993911795833\n"
     ]
    }
   ],
   "source": [
    "print('Training Accuracy :', regressor6.score(x_train, y_train))\n",
    "print('Test Accuracy :', regressor6.score(x_test, y_test))\n"
   ]
  },
  {
   "cell_type": "code",
   "execution_count": 61,
   "metadata": {},
   "outputs": [
    {
     "data": {
      "text/plain": [
       "0.6749993911795833"
      ]
     },
     "execution_count": 61,
     "metadata": {},
     "output_type": "execute_result"
    }
   ],
   "source": [
    "r2_score(y_test, y_pred6)"
   ]
  },
  {
   "cell_type": "code",
   "execution_count": null,
   "metadata": {},
   "outputs": [],
   "source": []
  },
  {
   "cell_type": "code",
   "execution_count": null,
   "metadata": {},
   "outputs": [],
   "source": []
  },
  {
   "cell_type": "markdown",
   "metadata": {},
   "source": [
    "# ********************************* Thank You *********************************************"
   ]
  }
 ],
 "metadata": {
  "kernelspec": {
   "display_name": "Python 3",
   "language": "python",
   "name": "python3"
  },
  "language_info": {
   "codemirror_mode": {
    "name": "ipython",
    "version": 3
   },
   "file_extension": ".py",
   "mimetype": "text/x-python",
   "name": "python",
   "nbconvert_exporter": "python",
   "pygments_lexer": "ipython3",
   "version": "3.8.5"
  }
 },
 "nbformat": 4,
 "nbformat_minor": 4
}
